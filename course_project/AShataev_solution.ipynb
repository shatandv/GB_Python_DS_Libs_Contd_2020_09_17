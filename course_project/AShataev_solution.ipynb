{
 "cells": [
  {
   "cell_type": "markdown",
   "metadata": {},
   "source": [
    "# GeekBrains Credit Default Classification Course Project 2020-09-17"
   ]
  },
  {
   "cell_type": "markdown",
   "metadata": {},
   "source": [
    "## Установка библиотек (если отсутствуют)"
   ]
  },
  {
   "cell_type": "code",
   "execution_count": null,
   "metadata": {},
   "outputs": [],
   "source": [
    "# %conda install --file requirements.txt"
   ]
  },
  {
   "cell_type": "markdown",
   "metadata": {},
   "source": [
    "# Подключение библиотек и скриптов"
   ]
  },
  {
   "cell_type": "code",
   "execution_count": 2,
   "metadata": {},
   "outputs": [],
   "source": [
    "import datetime\n",
    "import os\n",
    "import pickle\n",
    "\n",
    "import numpy as np\n",
    "import pandas as pd\n",
    "\n",
    "import matplotlib\n",
    "import matplotlib.pyplot as plt\n",
    "import seaborn as sns\n",
    "\n",
    "from scipy.stats import norm\n",
    "\n",
    "import sklearn\n",
    "import xgboost as xgb\n",
    "# 1. Разделение датасета и поиск гиперпараметров\n",
    "from sklearn.model_selection import train_test_split, cross_val_score, KFold, StratifiedKFold\n",
    "# 2. Трансформация данных\n",
    "from sklearn.preprocessing import StandardScaler\n",
    "# 3. Модели\n",
    "from sklearn.linear_model import LogisticRegression\n",
    "from sklearn.svm import SVC\n",
    "from sklearn.neighbors import KNeighborsClassifier\n",
    "from sklearn.tree import DecisionTreeClassifier\n",
    "from sklearn.ensemble import RandomForestClassifier, GradientBoostingClassifier\n",
    "# 4. Метрики качества\n",
    "from sklearn.metrics import (classification_report, accuracy_score,\n",
    "                             precision_score, f1_score,\n",
    "                             confusion_matrix, plot_confusion_matrix,\n",
    "                             auc, roc_auc_score, roc_curve, plot_roc_curve,\n",
    "                             precision_recall_curve, plot_precision_recall_curve)\n",
    "\n",
    "%matplotlib inline"
   ]
  },
  {
   "cell_type": "code",
   "execution_count": 3,
   "metadata": {},
   "outputs": [],
   "source": [
    "import warnings\n",
    "#warnings.filterwarnings('ignore')"
   ]
  },
  {
   "cell_type": "markdown",
   "metadata": {},
   "source": [
    "**Скрипт для уменьшения занимаемой памяти DataFrame**"
   ]
  },
  {
   "cell_type": "code",
   "execution_count": 4,
   "metadata": {},
   "outputs": [],
   "source": [
    "def reduce_mem_usage(df, *, verbose=False):\n",
    "    \"\"\" Iterate through all the columns of a dataframe and modify the data type\n",
    "        to reduce memory usage.\n",
    "        From Kaggle Notebook:\n",
    "        https://www.kaggle.com/gemartin/load-data-reduce-memory-usage\n",
    "    \"\"\"\n",
    "    if verbose:\n",
    "        start_mem = df.memory_usage().sum() / 1024**2\n",
    "        print(f\"Memory usage of dataframe is {start_mem:.2f} MB\")\n",
    "    \n",
    "    for col in df.columns:\n",
    "        col_type = df[col].dtype\n",
    "        \n",
    "        if col_type != object:\n",
    "            c_min = df[col].min()\n",
    "            c_max = df[col].max()\n",
    "            if str(col_type)[:3] == 'int':\n",
    "                if c_min > np.iinfo(np.int8).min and c_max < np.iinfo(np.int8).max:\n",
    "                    df[col] = df[col].astype(np.int8)\n",
    "                elif c_min > np.iinfo(np.int16).min and c_max < np.iinfo(np.int16).max:\n",
    "                    df[col] = df[col].astype(np.int16)\n",
    "                elif c_min > np.iinfo(np.int32).min and c_max < np.iinfo(np.int32).max:\n",
    "                    df[col] = df[col].astype(np.int32)\n",
    "                elif c_min > np.iinfo(np.int64).min and c_max < np.iinfo(np.int64).max:\n",
    "                    df[col] = df[col].astype(np.int64)  \n",
    "            else:\n",
    "                if c_min > np.finfo(np.float32).min and c_max < np.finfo(np.float32).max:\n",
    "                    df[col] = df[col].astype(np.float32)\n",
    "                else:\n",
    "                    df[col] = df[col].astype(np.float64)\n",
    "        else:\n",
    "            df[col] = df[col].astype('category')\n",
    "    \n",
    "    if verbose:\n",
    "        end_mem = df.memory_usage().sum() / 1024**2\n",
    "        mem_decrease_percent = 100 * (start_mem - end_mem) / start_mem\n",
    "        print(f\"Memory usage after optimization is: {end_mem:.2f} MB\")\n",
    "        print(f\"Decreased by {mem_decrease_percent:.1f}%\")\n",
    "    \n",
    "    return df"
   ]
  },
  {
   "cell_type": "markdown",
   "metadata": {},
   "source": [
    "**Скрипт визуализации диаграммы распределения вероятности**"
   ]
  },
  {
   "cell_type": "code",
   "execution_count": 17,
   "metadata": {},
   "outputs": [],
   "source": [
    "def plot_dist_with_stats(series: pd.Series, *, var_name: str='Variable', bins: int=30, log=False):\n",
    "    plt.figure(figsize=(12, 6))\n",
    "    \n",
    "    distplot = sns.distplot(series, bins=bins, fit=norm,\n",
    "                            hist_kws={'ec': 'white', 'log': log}, \n",
    "                            fit_kws={'label': 'Normal Distribution'})\n",
    "    \n",
    "    # Plotting the 3 averages\n",
    "    tallest_bin_height = max([b.get_height() for b in distplot.patches])\n",
    "    y = [0, tallest_bin_height]\n",
    "    # Mean\n",
    "    plt.plot([series.mean()] * len(y), y, color='green', linestyle='dashed', label='mean')\n",
    "    # Median\n",
    "    plt.plot([series.median()] * len(y), y, color='blue', linestyle='dashed', label='median')\n",
    "    # Mode (adjusted)\n",
    "    var_bin_count = len(series) // 100\n",
    "    var_bin_range = (series.max() - series.min()) / var_bin_count\n",
    "    var_bins = series // var_bin_range * var_bin_range\n",
    "    adjusted_mode = var_bins.mode()[0]\n",
    "    plt.plot([adjusted_mode] * len(y), y, color='red', linestyle='dashed', label='adjusted mode')\n",
    "\n",
    "    plt.legend(loc='upper right')\n",
    "    plt.title(f\"Distribution of {var_name}\")\n",
    "    \n",
    "    plt.show()"
   ]
  },
  {
   "cell_type": "markdown",
   "metadata": {},
   "source": [
    "**Скрипт визуализации частоты значений переменной**"
   ]
  },
  {
   "cell_type": "code",
   "execution_count": 57,
   "metadata": {},
   "outputs": [],
   "source": [
    "def plot_bar_frequency(series: pd.Series, *, show_labels=False, log=False):\n",
    "    freq = series.value_counts()\n",
    "    \n",
    "    fig, ax = plt.subplots()\n",
    "    ax.bar(freq.index, freq, log=log)\n",
    "    \n",
    "    ax.set_title(f\"{'Log ' if log else ''}{series.name}\")\n",
    "    ax.set_ylabel('Frequency')\n",
    "    \n",
    "    if show_labels:\n",
    "        for i, patch in enumerate(ax.patches):\n",
    "            width = patch.get_x() + patch.get_width() / 2\n",
    "            height = patch.get_height() + 5\n",
    "            ax.annotate(freq[i],\n",
    "                        (width, height),\n",
    "                        ha='center',\n",
    "                        va='bottom')\n",
    "        \n",
    "    return ax"
   ]
  },
  {
   "cell_type": "markdown",
   "metadata": {},
   "source": [
    "**Скрипт для логирования каждой тренировки, оценки и кросс-валидации модели**"
   ]
  },
  {
   "cell_type": "code",
   "execution_count": 5,
   "metadata": {},
   "outputs": [],
   "source": [
    "def log_model_results(model:sklearn.base.BaseEstimator,\n",
    "                      accuracy:np.float64 = None,\n",
    "                      f1_score:np.float64 = None,\n",
    "                      cv_score:np.float64 = None,\n",
    "                      comment:str = None,\n",
    "                      train_log_path:str = \"./training_log.csv\",\n",
    "                      *args, **kwargs) -> None:\n",
    "    \"\"\" Function for logging trained model results on Credit Default dataset.\n",
    "    Arguments:\n",
    "        model - a Scikit-learn model that was trained,\n",
    "        f1_score - F1 score calculated for the model on the training part of the train dataset,\n",
    "        cv_score - cross-validation F1 score calculated for the model on the full train dataset,\n",
    "        comment - a comment message for this model training,\n",
    "        train_log_path - filepath for the training log of the models\n",
    "    \n",
    "    Returns:\n",
    "        None\n",
    "    \"\"\"\n",
    "    \n",
    "    model_name = type(model).__name__\n",
    "    model_params = repr(model.get_params())\n",
    "    curr_datetime = datetime.datetime.now()\n",
    "    date = curr_datetime.date()\n",
    "    # Microseconds are not needed\n",
    "    time = curr_datetime.time().replace(microsecond=0)\n",
    "    \n",
    "    log_string = f\"{date};{time};{model_name};{accuracy if accuracy else ''};\" + \\\n",
    "                 f\"{f1_score if f1_score else ''};{cv_score if cv_score else ''};{model_params};\" + \\\n",
    "                 f\"{comment if comment else ''}\\n\"\n",
    "    \n",
    "    # Setup the log file if it's not created or is blank\n",
    "    if not os.path.isfile(train_log_path):\n",
    "        with open(train_log_path, 'w', encoding='utf-8'):\n",
    "            pass\n",
    "    if os.stat(train_log_path).st_size == 0:\n",
    "        with open(train_log_path, 'w', encoding='utf-8') as file:\n",
    "            file.write(f\"date;time;model_type;accuracy;f1;cv_f1;hypers;comment\\n\")\n",
    "    \n",
    "    with open(train_log_path, 'a', encoding='utf-8') as file:\n",
    "        file.write(log_string)\n",
    "        print(log_string)"
   ]
  },
  {
   "cell_type": "markdown",
   "metadata": {},
   "source": [
    "**Скрипт визуализации предсказаний модели**"
   ]
  },
  {
   "cell_type": "code",
   "execution_count": 6,
   "metadata": {},
   "outputs": [],
   "source": [
    "def eval_predictions(train_true: pd.Series, train_pred: pd.Series, test_true: pd.Series, test_pred: pd.Series) -> None:\n",
    "    \n",
    "    \"\"\" THIS IS A TEMPLATE FOR REGRESSORS NOW\"\"\"\n",
    "    \n",
    "#     \"\"\" Evaluate model predictions with MSE, RMSE and R2 score.\n",
    "#         Function from the GeekBrains tutorial notebook.\n",
    "#     \"\"\"\n",
    "#     fig, ax = plt.subplots(nrows=1, ncols=2, figsize=(18,10))\n",
    "#     ax = ax.flatten()\n",
    "    \n",
    "#     print(f\"Train R2:\\t{round(r2(train_true, train_pred), 3)}\", \n",
    "#           f\"Train RMSE:\\t{round(np.sqrt(mse(train_true, train_pred)), 3)}\", \n",
    "#           f\"Train MSE:\\t{round(mse(train_true, train_pred), 3)}\", \n",
    "#           sep='\\n')\n",
    "#     print()\n",
    "#     print(f\"Test R2:\\t{round(r2(test_true, test_pred), 3)}\", \n",
    "#           f\"Test RMSE:\\t{round(np.sqrt(mse(test_true, test_pred)), 3)}\", \n",
    "#           f\"Test MSE:\\t{round(mse(test_true, test_pred), 3)}\", \n",
    "#           sep='\\n')\n",
    "    \n",
    "#     min_coord = min(train_true.min(), train_pred.min(), test_true.min(), test_pred.min())\n",
    "#     max_coord = max(train_true.max(), train_pred.max(), test_true.max(), test_pred.max())\n",
    "    \n",
    "#     sns.scatterplot(x=train_pred, y=train_true, ax=ax[0])\n",
    "#     ax[0].plot([min_coord, max_coord], [min_coord, max_coord], linestyle='--', color='black')\n",
    "#     ax[0].set_title(\"Train dataset Prediction\")\n",
    "#     ax[0].set_xlabel(\"Predicted\")\n",
    "#     ax[0].set_ylabel(\"True\")\n",
    "    \n",
    "#     sns.scatterplot(x=test_pred, y=test_true, ax=ax[1])\n",
    "#     ax[1].plot([min_coord, max_coord], [min_coord, max_coord], linestyle='--', color='black')\n",
    "#     ax[1].set_title(\"Test dataset Prediction\")\n",
    "#     ax[1].set_xlabel(\"Predicted\")\n",
    "#     ax[1].set_ylabel(\"True\")\n",
    "    \n",
    "#     plt.show()"
   ]
  },
  {
   "cell_type": "markdown",
   "metadata": {},
   "source": [
    "**Пути к файлам**"
   ]
  },
  {
   "cell_type": "code",
   "execution_count": 7,
   "metadata": {},
   "outputs": [],
   "source": [
    "TRAIN_FILEPATH = './data/train.csv'\n",
    "PREPARED_TRAIN_FILEPATH = './data/prepared_train.csv'\n",
    "TEST_FILEPATH = './data/test.csv'\n",
    "SCALER_FILEPATH = './scaler.pkl'\n",
    "MODEL_FILEPATH = './model.pkl'\n",
    "LOGFILE_FILEPATH = './training_log.csv'"
   ]
  },
  {
   "cell_type": "markdown",
   "metadata": {},
   "source": [
    "# Загрузка данных в DataFrame"
   ]
  },
  {
   "cell_type": "markdown",
   "metadata": {},
   "source": [
    "**Описание задачи**\n",
    "\n",
    "Цель - предсказать, сможет ли человек выполнить свои кредитные обязательства.\\\n",
    "Тренировка модели классификации будет проходить на датасете course_project_train.csv с имеющимися целевыми значениями.\\\n",
    "Модель будет предсказывать результаты для датасета course_project_test.csv.\n",
    "\n",
    "Эта цель может быть полезна для:\n",
    "* банков и кредитных организаций, выдающих кредиты."
   ]
  },
  {
   "cell_type": "markdown",
   "metadata": {},
   "source": [
    "**Описание датасета**\n",
    "\n",
    "В датасете описаны люди, взявшие кредиты, с различной информацией об их финансовом состоянии (признаки) и целевой переменной - факт невыполнения обязательств по кредиту Credit Default.\\\n",
    "Датасет является табличными, структурированными данными.\n",
    "\n",
    "Признаки датасета:\n",
    "* **Home Ownership** - домовладение\n",
    "* **Annual Income** - годовой доход\n",
    "* **Years in current job** - количество лет на текущем месте работы\n",
    "* **Tax Liens** - налоговые обременения\n",
    "* **Number of Open Accounts** - количество открытых счетов\n",
    "* **Years of Credit History** - количество лет кредитной истории\n",
    "* **Maximum Open Credit** - наибольший открытый кредит\n",
    "* **Number of Credit Problems** - количество проблем с кредитом\n",
    "* **Months since last delinquent** - количество месяцев с последней просрочки платежа\n",
    "* **Bankruptcies** - банкротства\n",
    "* **Purpose** - цель кредита\n",
    "* **Term** - срок кредита\n",
    "* **Current Loan Amount** - текущая сумма кредита\n",
    "* **Current Credit Balance** - текущий кредитный баланс\n",
    "* **Monthly Debt** - ежемесячный долг\n",
    "* **Credit Default** - факт невыполнения кредитных обязательств (0 - погашен вовремя, 1 - просрочка)"
   ]
  },
  {
   "cell_type": "code",
   "execution_count": 8,
   "metadata": {},
   "outputs": [
    {
     "data": {
      "text/html": [
       "<div>\n",
       "<style scoped>\n",
       "    .dataframe tbody tr th:only-of-type {\n",
       "        vertical-align: middle;\n",
       "    }\n",
       "\n",
       "    .dataframe tbody tr th {\n",
       "        vertical-align: top;\n",
       "    }\n",
       "\n",
       "    .dataframe thead th {\n",
       "        text-align: right;\n",
       "    }\n",
       "</style>\n",
       "<table border=\"1\" class=\"dataframe\">\n",
       "  <thead>\n",
       "    <tr style=\"text-align: right;\">\n",
       "      <th></th>\n",
       "      <th>Home Ownership</th>\n",
       "      <th>Annual Income</th>\n",
       "      <th>Years in current job</th>\n",
       "      <th>Tax Liens</th>\n",
       "      <th>Number of Open Accounts</th>\n",
       "      <th>Years of Credit History</th>\n",
       "      <th>Maximum Open Credit</th>\n",
       "      <th>Number of Credit Problems</th>\n",
       "      <th>Months since last delinquent</th>\n",
       "      <th>Bankruptcies</th>\n",
       "      <th>Purpose</th>\n",
       "      <th>Term</th>\n",
       "      <th>Current Loan Amount</th>\n",
       "      <th>Current Credit Balance</th>\n",
       "      <th>Monthly Debt</th>\n",
       "      <th>Credit Score</th>\n",
       "      <th>Credit Default</th>\n",
       "    </tr>\n",
       "  </thead>\n",
       "  <tbody>\n",
       "    <tr>\n",
       "      <th>7495</th>\n",
       "      <td>Rent</td>\n",
       "      <td>402192.0</td>\n",
       "      <td>&lt; 1 year</td>\n",
       "      <td>0.0</td>\n",
       "      <td>3.0</td>\n",
       "      <td>8.5</td>\n",
       "      <td>107866.0</td>\n",
       "      <td>0.0</td>\n",
       "      <td>NaN</td>\n",
       "      <td>0.0</td>\n",
       "      <td>other</td>\n",
       "      <td>Short Term</td>\n",
       "      <td>129360.0</td>\n",
       "      <td>73492.0</td>\n",
       "      <td>1900.0</td>\n",
       "      <td>697.0</td>\n",
       "      <td>0</td>\n",
       "    </tr>\n",
       "    <tr>\n",
       "      <th>7496</th>\n",
       "      <td>Home Mortgage</td>\n",
       "      <td>1533984.0</td>\n",
       "      <td>1 year</td>\n",
       "      <td>0.0</td>\n",
       "      <td>10.0</td>\n",
       "      <td>26.5</td>\n",
       "      <td>686312.0</td>\n",
       "      <td>0.0</td>\n",
       "      <td>43.0</td>\n",
       "      <td>0.0</td>\n",
       "      <td>debt consolidation</td>\n",
       "      <td>Long Term</td>\n",
       "      <td>444048.0</td>\n",
       "      <td>456399.0</td>\n",
       "      <td>12783.0</td>\n",
       "      <td>7410.0</td>\n",
       "      <td>1</td>\n",
       "    </tr>\n",
       "    <tr>\n",
       "      <th>7497</th>\n",
       "      <td>Rent</td>\n",
       "      <td>1878910.0</td>\n",
       "      <td>6 years</td>\n",
       "      <td>0.0</td>\n",
       "      <td>12.0</td>\n",
       "      <td>32.1</td>\n",
       "      <td>1778920.0</td>\n",
       "      <td>0.0</td>\n",
       "      <td>NaN</td>\n",
       "      <td>0.0</td>\n",
       "      <td>buy a car</td>\n",
       "      <td>Short Term</td>\n",
       "      <td>99999999.0</td>\n",
       "      <td>477812.0</td>\n",
       "      <td>12479.0</td>\n",
       "      <td>748.0</td>\n",
       "      <td>0</td>\n",
       "    </tr>\n",
       "    <tr>\n",
       "      <th>7498</th>\n",
       "      <td>Home Mortgage</td>\n",
       "      <td>NaN</td>\n",
       "      <td>NaN</td>\n",
       "      <td>0.0</td>\n",
       "      <td>21.0</td>\n",
       "      <td>26.5</td>\n",
       "      <td>1141250.0</td>\n",
       "      <td>0.0</td>\n",
       "      <td>NaN</td>\n",
       "      <td>0.0</td>\n",
       "      <td>debt consolidation</td>\n",
       "      <td>Short Term</td>\n",
       "      <td>615274.0</td>\n",
       "      <td>476064.0</td>\n",
       "      <td>37118.0</td>\n",
       "      <td>NaN</td>\n",
       "      <td>0</td>\n",
       "    </tr>\n",
       "    <tr>\n",
       "      <th>7499</th>\n",
       "      <td>Rent</td>\n",
       "      <td>NaN</td>\n",
       "      <td>4 years</td>\n",
       "      <td>0.0</td>\n",
       "      <td>8.0</td>\n",
       "      <td>9.4</td>\n",
       "      <td>480832.0</td>\n",
       "      <td>0.0</td>\n",
       "      <td>NaN</td>\n",
       "      <td>0.0</td>\n",
       "      <td>debt consolidation</td>\n",
       "      <td>Short Term</td>\n",
       "      <td>26928.0</td>\n",
       "      <td>288192.0</td>\n",
       "      <td>9061.0</td>\n",
       "      <td>NaN</td>\n",
       "      <td>0</td>\n",
       "    </tr>\n",
       "  </tbody>\n",
       "</table>\n",
       "</div>"
      ],
      "text/plain": [
       "     Home Ownership  Annual Income Years in current job  Tax Liens  \\\n",
       "7495           Rent       402192.0             < 1 year        0.0   \n",
       "7496  Home Mortgage      1533984.0               1 year        0.0   \n",
       "7497           Rent      1878910.0              6 years        0.0   \n",
       "7498  Home Mortgage            NaN                  NaN        0.0   \n",
       "7499           Rent            NaN              4 years        0.0   \n",
       "\n",
       "      Number of Open Accounts  Years of Credit History  Maximum Open Credit  \\\n",
       "7495                      3.0                      8.5             107866.0   \n",
       "7496                     10.0                     26.5             686312.0   \n",
       "7497                     12.0                     32.1            1778920.0   \n",
       "7498                     21.0                     26.5            1141250.0   \n",
       "7499                      8.0                      9.4             480832.0   \n",
       "\n",
       "      Number of Credit Problems  Months since last delinquent  Bankruptcies  \\\n",
       "7495                        0.0                           NaN           0.0   \n",
       "7496                        0.0                          43.0           0.0   \n",
       "7497                        0.0                           NaN           0.0   \n",
       "7498                        0.0                           NaN           0.0   \n",
       "7499                        0.0                           NaN           0.0   \n",
       "\n",
       "                 Purpose        Term  Current Loan Amount  \\\n",
       "7495               other  Short Term             129360.0   \n",
       "7496  debt consolidation   Long Term             444048.0   \n",
       "7497           buy a car  Short Term           99999999.0   \n",
       "7498  debt consolidation  Short Term             615274.0   \n",
       "7499  debt consolidation  Short Term              26928.0   \n",
       "\n",
       "      Current Credit Balance  Monthly Debt  Credit Score  Credit Default  \n",
       "7495                 73492.0        1900.0         697.0               0  \n",
       "7496                456399.0       12783.0        7410.0               1  \n",
       "7497                477812.0       12479.0         748.0               0  \n",
       "7498                476064.0       37118.0           NaN               0  \n",
       "7499                288192.0        9061.0           NaN               0  "
      ]
     },
     "execution_count": 8,
     "metadata": {},
     "output_type": "execute_result"
    }
   ],
   "source": [
    "train_df = pd.read_csv(TRAIN_FILEPATH, sep=',')\n",
    "train_df.tail()"
   ]
  },
  {
   "cell_type": "code",
   "execution_count": 9,
   "metadata": {},
   "outputs": [
    {
     "data": {
      "text/html": [
       "<div>\n",
       "<style scoped>\n",
       "    .dataframe tbody tr th:only-of-type {\n",
       "        vertical-align: middle;\n",
       "    }\n",
       "\n",
       "    .dataframe tbody tr th {\n",
       "        vertical-align: top;\n",
       "    }\n",
       "\n",
       "    .dataframe thead th {\n",
       "        text-align: right;\n",
       "    }\n",
       "</style>\n",
       "<table border=\"1\" class=\"dataframe\">\n",
       "  <thead>\n",
       "    <tr style=\"text-align: right;\">\n",
       "      <th></th>\n",
       "      <th>Home Ownership</th>\n",
       "      <th>Annual Income</th>\n",
       "      <th>Years in current job</th>\n",
       "      <th>Tax Liens</th>\n",
       "      <th>Number of Open Accounts</th>\n",
       "      <th>Years of Credit History</th>\n",
       "      <th>Maximum Open Credit</th>\n",
       "      <th>Number of Credit Problems</th>\n",
       "      <th>Months since last delinquent</th>\n",
       "      <th>Bankruptcies</th>\n",
       "      <th>Purpose</th>\n",
       "      <th>Term</th>\n",
       "      <th>Current Loan Amount</th>\n",
       "      <th>Current Credit Balance</th>\n",
       "      <th>Monthly Debt</th>\n",
       "      <th>Credit Score</th>\n",
       "    </tr>\n",
       "  </thead>\n",
       "  <tbody>\n",
       "    <tr>\n",
       "      <th>2495</th>\n",
       "      <td>Home Mortgage</td>\n",
       "      <td>1020053.0</td>\n",
       "      <td>10+ years</td>\n",
       "      <td>0.0</td>\n",
       "      <td>14.0</td>\n",
       "      <td>29.1</td>\n",
       "      <td>559152.0</td>\n",
       "      <td>1.0</td>\n",
       "      <td>68.0</td>\n",
       "      <td>1.0</td>\n",
       "      <td>debt consolidation</td>\n",
       "      <td>Short Term</td>\n",
       "      <td>99999999.0</td>\n",
       "      <td>162735.0</td>\n",
       "      <td>15046.0</td>\n",
       "      <td>745.0</td>\n",
       "    </tr>\n",
       "    <tr>\n",
       "      <th>2496</th>\n",
       "      <td>Home Mortgage</td>\n",
       "      <td>NaN</td>\n",
       "      <td>2 years</td>\n",
       "      <td>0.0</td>\n",
       "      <td>15.0</td>\n",
       "      <td>17.0</td>\n",
       "      <td>1737780.0</td>\n",
       "      <td>0.0</td>\n",
       "      <td>77.0</td>\n",
       "      <td>0.0</td>\n",
       "      <td>debt consolidation</td>\n",
       "      <td>Short Term</td>\n",
       "      <td>468512.0</td>\n",
       "      <td>1439269.0</td>\n",
       "      <td>32996.0</td>\n",
       "      <td>NaN</td>\n",
       "    </tr>\n",
       "    <tr>\n",
       "      <th>2497</th>\n",
       "      <td>Home Mortgage</td>\n",
       "      <td>1171806.0</td>\n",
       "      <td>2 years</td>\n",
       "      <td>0.0</td>\n",
       "      <td>48.0</td>\n",
       "      <td>12.8</td>\n",
       "      <td>1706430.0</td>\n",
       "      <td>0.0</td>\n",
       "      <td>NaN</td>\n",
       "      <td>0.0</td>\n",
       "      <td>debt consolidation</td>\n",
       "      <td>Short Term</td>\n",
       "      <td>430496.0</td>\n",
       "      <td>676438.0</td>\n",
       "      <td>36912.0</td>\n",
       "      <td>695.0</td>\n",
       "    </tr>\n",
       "    <tr>\n",
       "      <th>2498</th>\n",
       "      <td>Rent</td>\n",
       "      <td>723520.0</td>\n",
       "      <td>10+ years</td>\n",
       "      <td>0.0</td>\n",
       "      <td>14.0</td>\n",
       "      <td>28.8</td>\n",
       "      <td>945780.0</td>\n",
       "      <td>0.0</td>\n",
       "      <td>NaN</td>\n",
       "      <td>0.0</td>\n",
       "      <td>debt consolidation</td>\n",
       "      <td>Short Term</td>\n",
       "      <td>257774.0</td>\n",
       "      <td>391248.0</td>\n",
       "      <td>13506.0</td>\n",
       "      <td>744.0</td>\n",
       "    </tr>\n",
       "    <tr>\n",
       "      <th>2499</th>\n",
       "      <td>Rent</td>\n",
       "      <td>1694439.0</td>\n",
       "      <td>10+ years</td>\n",
       "      <td>0.0</td>\n",
       "      <td>12.0</td>\n",
       "      <td>18.4</td>\n",
       "      <td>1199748.0</td>\n",
       "      <td>1.0</td>\n",
       "      <td>72.0</td>\n",
       "      <td>0.0</td>\n",
       "      <td>debt consolidation</td>\n",
       "      <td>Long Term</td>\n",
       "      <td>763004.0</td>\n",
       "      <td>559531.0</td>\n",
       "      <td>23440.0</td>\n",
       "      <td>6820.0</td>\n",
       "    </tr>\n",
       "  </tbody>\n",
       "</table>\n",
       "</div>"
      ],
      "text/plain": [
       "     Home Ownership  Annual Income Years in current job  Tax Liens  \\\n",
       "2495  Home Mortgage      1020053.0            10+ years        0.0   \n",
       "2496  Home Mortgage            NaN              2 years        0.0   \n",
       "2497  Home Mortgage      1171806.0              2 years        0.0   \n",
       "2498           Rent       723520.0            10+ years        0.0   \n",
       "2499           Rent      1694439.0            10+ years        0.0   \n",
       "\n",
       "      Number of Open Accounts  Years of Credit History  Maximum Open Credit  \\\n",
       "2495                     14.0                     29.1             559152.0   \n",
       "2496                     15.0                     17.0            1737780.0   \n",
       "2497                     48.0                     12.8            1706430.0   \n",
       "2498                     14.0                     28.8             945780.0   \n",
       "2499                     12.0                     18.4            1199748.0   \n",
       "\n",
       "      Number of Credit Problems  Months since last delinquent  Bankruptcies  \\\n",
       "2495                        1.0                          68.0           1.0   \n",
       "2496                        0.0                          77.0           0.0   \n",
       "2497                        0.0                           NaN           0.0   \n",
       "2498                        0.0                           NaN           0.0   \n",
       "2499                        1.0                          72.0           0.0   \n",
       "\n",
       "                 Purpose        Term  Current Loan Amount  \\\n",
       "2495  debt consolidation  Short Term           99999999.0   \n",
       "2496  debt consolidation  Short Term             468512.0   \n",
       "2497  debt consolidation  Short Term             430496.0   \n",
       "2498  debt consolidation  Short Term             257774.0   \n",
       "2499  debt consolidation   Long Term             763004.0   \n",
       "\n",
       "      Current Credit Balance  Monthly Debt  Credit Score  \n",
       "2495                162735.0       15046.0         745.0  \n",
       "2496               1439269.0       32996.0           NaN  \n",
       "2497                676438.0       36912.0         695.0  \n",
       "2498                391248.0       13506.0         744.0  \n",
       "2499                559531.0       23440.0        6820.0  "
      ]
     },
     "execution_count": 9,
     "metadata": {},
     "output_type": "execute_result"
    }
   ],
   "source": [
    "test_df = pd.read_csv(TEST_FILEPATH, sep=',')\n",
    "test_df.tail()"
   ]
  },
  {
   "cell_type": "markdown",
   "metadata": {},
   "source": [
    "Количество наблюдений в датасете."
   ]
  },
  {
   "cell_type": "code",
   "execution_count": 10,
   "metadata": {},
   "outputs": [
    {
     "name": "stdout",
     "output_type": "stream",
     "text": [
      "Train samples: 7500\n",
      "Test samples: 2500\n"
     ]
    }
   ],
   "source": [
    "print(f\"Train samples: {train_df.shape[0]}\")\n",
    "print(f\"Test samples: {test_df.shape[0]}\")"
   ]
  },
  {
   "cell_type": "markdown",
   "metadata": {},
   "source": [
    "Количество признаков в датасете (вместе с целевой переменной Price)."
   ]
  },
  {
   "cell_type": "code",
   "execution_count": 11,
   "metadata": {},
   "outputs": [
    {
     "data": {
      "text/plain": [
       "17"
      ]
     },
     "execution_count": 11,
     "metadata": {},
     "output_type": "execute_result"
    }
   ],
   "source": [
    "train_df.shape[1]"
   ]
  },
  {
   "cell_type": "markdown",
   "metadata": {},
   "source": [
    "Проверяем, что в train и test одинаковое количество признаков."
   ]
  },
  {
   "cell_type": "code",
   "execution_count": 12,
   "metadata": {},
   "outputs": [
    {
     "data": {
      "text/plain": [
       "True"
      ]
     },
     "execution_count": 12,
     "metadata": {},
     "output_type": "execute_result"
    }
   ],
   "source": [
    "train_df.shape[1] - 1 == test_df.shape[1]"
   ]
  },
  {
   "cell_type": "markdown",
   "metadata": {},
   "source": [
    "**Уменьшаем занимаемую память DataFrame**"
   ]
  },
  {
   "cell_type": "code",
   "execution_count": 13,
   "metadata": {},
   "outputs": [
    {
     "name": "stdout",
     "output_type": "stream",
     "text": [
      "Memory usage of dataframe is 0.97 MB\n",
      "Memory usage after optimization is: 0.38 MB\n",
      "Decreased by 60.9%\n"
     ]
    }
   ],
   "source": [
    "train_df = reduce_mem_usage(train_df, verbose=True)"
   ]
  },
  {
   "cell_type": "markdown",
   "metadata": {},
   "source": [
    "**Типы данных переменных**"
   ]
  },
  {
   "cell_type": "code",
   "execution_count": 14,
   "metadata": {},
   "outputs": [
    {
     "data": {
      "text/plain": [
       "Home Ownership                  category\n",
       "Annual Income                    float32\n",
       "Years in current job            category\n",
       "Tax Liens                        float32\n",
       "Number of Open Accounts          float32\n",
       "Years of Credit History          float32\n",
       "Maximum Open Credit              float32\n",
       "Number of Credit Problems        float32\n",
       "Months since last delinquent     float32\n",
       "Bankruptcies                     float32\n",
       "Purpose                         category\n",
       "Term                            category\n",
       "Current Loan Amount              float32\n",
       "Current Credit Balance           float32\n",
       "Monthly Debt                     float32\n",
       "Credit Score                     float32\n",
       "Credit Default                      int8\n",
       "dtype: object"
      ]
     },
     "execution_count": 14,
     "metadata": {},
     "output_type": "execute_result"
    }
   ],
   "source": [
    "train_df.dtypes"
   ]
  },
  {
   "cell_type": "markdown",
   "metadata": {},
   "source": [
    "# 1. EDA и Preprocessing"
   ]
  },
  {
   "cell_type": "markdown",
   "metadata": {},
   "source": [
    "### Примерное описание этапов выполнения курсового проекта<a class=\"anchor\" id=\"course_project_steps\"></a>"
   ]
  },
  {
   "cell_type": "markdown",
   "metadata": {},
   "source": [
    "**Построение модели классификации**\n",
    "1. Обзор обучающего датасета\n",
    "2. Обработка выбросов\n",
    "3. Обработка пропусков\n",
    "4. Анализ данных\n",
    "5. Отбор признаков\n",
    "6. Балансировка классов\n",
    "7. Подбор моделей, получение бейзлана\n",
    "8. Выбор наилучшей модели, настройка гиперпараметров\n",
    "9. Проверка качества, борьба с переобучением\n",
    "10. Интерпретация результатов\n",
    "\n",
    "**Прогнозирование на тестовом датасете**\n",
    "1. Выполнить для тестового датасета те же этапы обработки и постронияния признаков\n",
    "2. Спрогнозировать целевую переменную, используя модель, построенную на обучающем датасете\n",
    "3. Прогнозы должны быть для всех примеров из тестового датасета (для всех строк)\n",
    "4. Соблюдать исходный порядок примеров из тестового датасета"
   ]
  },
  {
   "cell_type": "markdown",
   "metadata": {},
   "source": [
    "## 1.1. Анализ таргета Credit Default"
   ]
  },
  {
   "cell_type": "code",
   "execution_count": 15,
   "metadata": {},
   "outputs": [],
   "source": [
    "target = 'Credit Default'"
   ]
  },
  {
   "cell_type": "code",
   "execution_count": 16,
   "metadata": {},
   "outputs": [
    {
     "data": {
      "text/plain": [
       "0    5387\n",
       "1    2113\n",
       "Name: Credit Default, dtype: int64"
      ]
     },
     "execution_count": 16,
     "metadata": {},
     "output_type": "execute_result"
    }
   ],
   "source": [
    "train_df[target].value_counts()"
   ]
  },
  {
   "cell_type": "markdown",
   "metadata": {},
   "source": [
    "Классы несбалансированны."
   ]
  },
  {
   "cell_type": "markdown",
   "metadata": {},
   "source": [
    "## 1.2. Анализ признаков датасета"
   ]
  },
  {
   "cell_type": "markdown",
   "metadata": {},
   "source": [
    "### 1.2.1. Количественные признаки"
   ]
  },
  {
   "cell_type": "code",
   "execution_count": 17,
   "metadata": {},
   "outputs": [
    {
     "data": {
      "text/html": [
       "<div>\n",
       "<style scoped>\n",
       "    .dataframe tbody tr th:only-of-type {\n",
       "        vertical-align: middle;\n",
       "    }\n",
       "\n",
       "    .dataframe tbody tr th {\n",
       "        vertical-align: top;\n",
       "    }\n",
       "\n",
       "    .dataframe thead th {\n",
       "        text-align: right;\n",
       "    }\n",
       "</style>\n",
       "<table border=\"1\" class=\"dataframe\">\n",
       "  <thead>\n",
       "    <tr style=\"text-align: right;\">\n",
       "      <th></th>\n",
       "      <th>Annual Income</th>\n",
       "      <th>Tax Liens</th>\n",
       "      <th>Number of Open Accounts</th>\n",
       "      <th>Years of Credit History</th>\n",
       "      <th>Maximum Open Credit</th>\n",
       "      <th>Number of Credit Problems</th>\n",
       "      <th>Months since last delinquent</th>\n",
       "      <th>Bankruptcies</th>\n",
       "      <th>Current Loan Amount</th>\n",
       "      <th>Current Credit Balance</th>\n",
       "      <th>Monthly Debt</th>\n",
       "      <th>Credit Score</th>\n",
       "      <th>Credit Default</th>\n",
       "    </tr>\n",
       "  </thead>\n",
       "  <tbody>\n",
       "    <tr>\n",
       "      <th>count</th>\n",
       "      <td>5.943000e+03</td>\n",
       "      <td>7500.000000</td>\n",
       "      <td>7500.000000</td>\n",
       "      <td>7500.000000</td>\n",
       "      <td>7.500000e+03</td>\n",
       "      <td>7500.000000</td>\n",
       "      <td>3419.000000</td>\n",
       "      <td>7486.000000</td>\n",
       "      <td>7500.0</td>\n",
       "      <td>7.500000e+03</td>\n",
       "      <td>7500.000000</td>\n",
       "      <td>5943.000000</td>\n",
       "      <td>7500.000000</td>\n",
       "    </tr>\n",
       "    <tr>\n",
       "      <th>mean</th>\n",
       "      <td>1.366392e+06</td>\n",
       "      <td>0.030133</td>\n",
       "      <td>11.130934</td>\n",
       "      <td>18.317467</td>\n",
       "      <td>9.451538e+05</td>\n",
       "      <td>0.170000</td>\n",
       "      <td>34.692600</td>\n",
       "      <td>0.117152</td>\n",
       "      <td>11873178.0</td>\n",
       "      <td>2.898332e+05</td>\n",
       "      <td>18314.453125</td>\n",
       "      <td>1151.087524</td>\n",
       "      <td>0.281733</td>\n",
       "    </tr>\n",
       "    <tr>\n",
       "      <th>std</th>\n",
       "      <td>8.453392e+05</td>\n",
       "      <td>0.271604</td>\n",
       "      <td>4.908924</td>\n",
       "      <td>7.041946</td>\n",
       "      <td>1.602622e+07</td>\n",
       "      <td>0.498598</td>\n",
       "      <td>21.688807</td>\n",
       "      <td>0.347192</td>\n",
       "      <td>31926124.0</td>\n",
       "      <td>3.178714e+05</td>\n",
       "      <td>11926.764648</td>\n",
       "      <td>1604.451416</td>\n",
       "      <td>0.449874</td>\n",
       "    </tr>\n",
       "    <tr>\n",
       "      <th>min</th>\n",
       "      <td>1.645970e+05</td>\n",
       "      <td>0.000000</td>\n",
       "      <td>2.000000</td>\n",
       "      <td>4.000000</td>\n",
       "      <td>0.000000e+00</td>\n",
       "      <td>0.000000</td>\n",
       "      <td>0.000000</td>\n",
       "      <td>0.000000</td>\n",
       "      <td>11242.0</td>\n",
       "      <td>0.000000e+00</td>\n",
       "      <td>0.000000</td>\n",
       "      <td>585.000000</td>\n",
       "      <td>0.000000</td>\n",
       "    </tr>\n",
       "    <tr>\n",
       "      <th>25%</th>\n",
       "      <td>8.443410e+05</td>\n",
       "      <td>0.000000</td>\n",
       "      <td>8.000000</td>\n",
       "      <td>13.500000</td>\n",
       "      <td>2.792295e+05</td>\n",
       "      <td>0.000000</td>\n",
       "      <td>16.000000</td>\n",
       "      <td>0.000000</td>\n",
       "      <td>180169.0</td>\n",
       "      <td>1.142565e+05</td>\n",
       "      <td>10067.500000</td>\n",
       "      <td>711.000000</td>\n",
       "      <td>0.000000</td>\n",
       "    </tr>\n",
       "    <tr>\n",
       "      <th>50%</th>\n",
       "      <td>1.168386e+06</td>\n",
       "      <td>0.000000</td>\n",
       "      <td>10.000000</td>\n",
       "      <td>17.000000</td>\n",
       "      <td>4.781590e+05</td>\n",
       "      <td>0.000000</td>\n",
       "      <td>32.000000</td>\n",
       "      <td>0.000000</td>\n",
       "      <td>309573.0</td>\n",
       "      <td>2.093230e+05</td>\n",
       "      <td>16076.500000</td>\n",
       "      <td>731.000000</td>\n",
       "      <td>0.000000</td>\n",
       "    </tr>\n",
       "    <tr>\n",
       "      <th>75%</th>\n",
       "      <td>1.640137e+06</td>\n",
       "      <td>0.000000</td>\n",
       "      <td>14.000000</td>\n",
       "      <td>21.799999</td>\n",
       "      <td>7.935015e+05</td>\n",
       "      <td>0.000000</td>\n",
       "      <td>50.000000</td>\n",
       "      <td>0.000000</td>\n",
       "      <td>519882.0</td>\n",
       "      <td>3.604062e+05</td>\n",
       "      <td>23818.000000</td>\n",
       "      <td>743.000000</td>\n",
       "      <td>1.000000</td>\n",
       "    </tr>\n",
       "    <tr>\n",
       "      <th>max</th>\n",
       "      <td>1.014934e+07</td>\n",
       "      <td>7.000000</td>\n",
       "      <td>43.000000</td>\n",
       "      <td>57.700001</td>\n",
       "      <td>1.304726e+09</td>\n",
       "      <td>7.000000</td>\n",
       "      <td>118.000000</td>\n",
       "      <td>4.000000</td>\n",
       "      <td>100000000.0</td>\n",
       "      <td>6.506797e+06</td>\n",
       "      <td>136679.000000</td>\n",
       "      <td>7510.000000</td>\n",
       "      <td>1.000000</td>\n",
       "    </tr>\n",
       "  </tbody>\n",
       "</table>\n",
       "</div>"
      ],
      "text/plain": [
       "       Annual Income    Tax Liens  Number of Open Accounts  \\\n",
       "count   5.943000e+03  7500.000000              7500.000000   \n",
       "mean    1.366392e+06     0.030133                11.130934   \n",
       "std     8.453392e+05     0.271604                 4.908924   \n",
       "min     1.645970e+05     0.000000                 2.000000   \n",
       "25%     8.443410e+05     0.000000                 8.000000   \n",
       "50%     1.168386e+06     0.000000                10.000000   \n",
       "75%     1.640137e+06     0.000000                14.000000   \n",
       "max     1.014934e+07     7.000000                43.000000   \n",
       "\n",
       "       Years of Credit History  Maximum Open Credit  \\\n",
       "count              7500.000000         7.500000e+03   \n",
       "mean                 18.317467         9.451538e+05   \n",
       "std                   7.041946         1.602622e+07   \n",
       "min                   4.000000         0.000000e+00   \n",
       "25%                  13.500000         2.792295e+05   \n",
       "50%                  17.000000         4.781590e+05   \n",
       "75%                  21.799999         7.935015e+05   \n",
       "max                  57.700001         1.304726e+09   \n",
       "\n",
       "       Number of Credit Problems  Months since last delinquent  Bankruptcies  \\\n",
       "count                7500.000000                   3419.000000   7486.000000   \n",
       "mean                    0.170000                     34.692600      0.117152   \n",
       "std                     0.498598                     21.688807      0.347192   \n",
       "min                     0.000000                      0.000000      0.000000   \n",
       "25%                     0.000000                     16.000000      0.000000   \n",
       "50%                     0.000000                     32.000000      0.000000   \n",
       "75%                     0.000000                     50.000000      0.000000   \n",
       "max                     7.000000                    118.000000      4.000000   \n",
       "\n",
       "       Current Loan Amount  Current Credit Balance   Monthly Debt  \\\n",
       "count               7500.0            7.500000e+03    7500.000000   \n",
       "mean            11873178.0            2.898332e+05   18314.453125   \n",
       "std             31926124.0            3.178714e+05   11926.764648   \n",
       "min                11242.0            0.000000e+00       0.000000   \n",
       "25%               180169.0            1.142565e+05   10067.500000   \n",
       "50%               309573.0            2.093230e+05   16076.500000   \n",
       "75%               519882.0            3.604062e+05   23818.000000   \n",
       "max            100000000.0            6.506797e+06  136679.000000   \n",
       "\n",
       "       Credit Score  Credit Default  \n",
       "count   5943.000000     7500.000000  \n",
       "mean    1151.087524        0.281733  \n",
       "std     1604.451416        0.449874  \n",
       "min      585.000000        0.000000  \n",
       "25%      711.000000        0.000000  \n",
       "50%      731.000000        0.000000  \n",
       "75%      743.000000        1.000000  \n",
       "max     7510.000000        1.000000  "
      ]
     },
     "execution_count": 17,
     "metadata": {},
     "output_type": "execute_result"
    }
   ],
   "source": [
    "train_df.describe()"
   ]
  },
  {
   "cell_type": "markdown",
   "metadata": {},
   "source": [
    "Замеченные выбросы:\n",
    "* Annual Income - max 10 000 000 выглядит многовато, но возможно в пределах нормы.\n",
    "* Maximum Open Credit - max 1 304 000 000 значительно больше, все остальные статистики. Похоже, что лишние 3 нуля.\\\n",
    "* Current Loan Amount - max 100 000 000 также значительно больше остальных статистик. Лишние 2 нуля?\\\n",
    "* Credit Score - max 7510. Больше 1000 кредитный рейтинг не бывает. Этот выброс также тянет за собой медиану и стандартное отклонение."
   ]
  },
  {
   "cell_type": "markdown",
   "metadata": {},
   "source": [
    "### Annual Income"
   ]
  },
  {
   "cell_type": "code",
   "execution_count": 18,
   "metadata": {},
   "outputs": [
    {
     "data": {
      "text/plain": [
       "1161660.0    4\n",
       "1058376.0    4\n",
       "1338113.0    4\n",
       "1043651.0    4\n",
       "969475.0     4\n",
       "            ..\n",
       "1141254.0    1\n",
       "7907382.0    1\n",
       "1534478.0    1\n",
       "972040.0     1\n",
       "1654786.0    1\n",
       "Name: Annual Income, Length: 5478, dtype: int64"
      ]
     },
     "execution_count": 18,
     "metadata": {},
     "output_type": "execute_result"
    }
   ],
   "source": [
    "train_df['Annual Income'].value_counts()"
   ]
  },
  {
   "cell_type": "code",
   "execution_count": 19,
   "metadata": {},
   "outputs": [
    {
     "data": {
      "image/png": "[encoded data removed]",
      "text/plain": [
       "<Figure size 864x432 with 1 Axes>"
      ]
     },
     "metadata": {
      "needs_background": "light"
     },
     "output_type": "display_data"
    }
   ],
   "source": [
    "plot_dist_with_stats(train_df['Annual Income'], var_name='Annual Income')"
   ]
  },
  {
   "cell_type": "markdown",
   "metadata": {},
   "source": [
    "### Maximum Open Credit"
   ]
  },
  {
   "cell_type": "code",
   "execution_count": 72,
   "metadata": {},
   "outputs": [
    {
     "data": {
      "text/plain": [
       "0.0          65\n",
       "319110.0      5\n",
       "334796.0      3\n",
       "607046.0      3\n",
       "294030.0      3\n",
       "             ..\n",
       "534600.0      1\n",
       "1026124.0     1\n",
       "77066.0       1\n",
       "780164.0      1\n",
       "350768.0      1\n",
       "Name: Maximum Open Credit, Length: 6963, dtype: int64"
      ]
     },
     "execution_count": 72,
     "metadata": {},
     "output_type": "execute_result"
    }
   ],
   "source": [
    "train_df['Maximum Open Credit'].value_counts()"
   ]
  },
  {
   "cell_type": "code",
   "execution_count": 73,
   "metadata": {},
   "outputs": [
    {
     "data": {
      "image/png": "[encoded data removed]",
      "text/plain": [
       "<Figure size 864x432 with 1 Axes>"
      ]
     },
     "metadata": {
      "needs_background": "light"
     },
     "output_type": "display_data"
    }
   ],
   "source": [
    "plot_dist_with_stats(train_df['Maximum Open Credit'], var_name='Maximum Open Credit')"
   ]
  },
  {
   "cell_type": "markdown",
   "metadata": {},
   "source": [
    "### Current Loan Amount"
   ]
  },
  {
   "cell_type": "code",
   "execution_count": 71,
   "metadata": {},
   "outputs": [
    {
     "data": {
      "text/plain": [
       "100000000.0    870\n",
       "89298.0          6\n",
       "218064.0         6\n",
       "216106.0         5\n",
       "270226.0         5\n",
       "              ... \n",
       "490006.0         1\n",
       "404756.0         1\n",
       "194414.0         1\n",
       "420376.0         1\n",
       "33792.0          1\n",
       "Name: Current Loan Amount, Length: 5386, dtype: int64"
      ]
     },
     "execution_count": 71,
     "metadata": {},
     "output_type": "execute_result"
    }
   ],
   "source": [
    "train_df['Current Loan Amount'].value_counts()"
   ]
  },
  {
   "cell_type": "code",
   "execution_count": 74,
   "metadata": {},
   "outputs": [
    {
     "data": {
      "image/png": "[encoded data removed]",
      "text/plain": [
       "<Figure size 864x432 with 1 Axes>"
      ]
     },
     "metadata": {
      "needs_background": "light"
     },
     "output_type": "display_data"
    }
   ],
   "source": [
    "plot_dist_with_stats(train_df['Current Loan Amount'], var_name='Current Loan Amount')"
   ]
  },
  {
   "cell_type": "markdown",
   "metadata": {},
   "source": [
    "### Credit Score"
   ]
  },
  {
   "cell_type": "code",
   "execution_count": 24,
   "metadata": {},
   "outputs": [
    {
     "data": {
      "text/plain": [
       "740.0     169\n",
       "747.0     168\n",
       "748.0     157\n",
       "745.0     152\n",
       "741.0     151\n",
       "         ... \n",
       "602.0       1\n",
       "616.0       1\n",
       "585.0       1\n",
       "620.0       1\n",
       "7010.0      1\n",
       "Name: Credit Score, Length: 268, dtype: int64"
      ]
     },
     "execution_count": 24,
     "metadata": {},
     "output_type": "execute_result"
    }
   ],
   "source": [
    "train_df['Credit Score'].value_counts()"
   ]
  },
  {
   "cell_type": "code",
   "execution_count": 66,
   "metadata": {},
   "outputs": [
    {
     "data": {
      "text/plain": [
       "count     400.000000\n",
       "mean     7115.100098\n",
       "std       306.745361\n",
       "min      6060.000000\n",
       "25%      6987.500000\n",
       "50%      7190.000000\n",
       "75%      7340.000000\n",
       "max      7510.000000\n",
       "Name: Credit Score, dtype: float64"
      ]
     },
     "execution_count": 66,
     "metadata": {},
     "output_type": "execute_result"
    }
   ],
   "source": [
    "train_df.loc[train_df['Credit Score'] >= 1000, 'Credit Score'].describe()"
   ]
  },
  {
   "cell_type": "markdown",
   "metadata": {},
   "source": [
    "400 выбросов со значениями в диапазоне [6060.0; 7510.0].\\\n",
    "Все похожи на то, что имеют лишний 0 на конце.\\\n",
    "Поделим все выбросы >= 3000 на 10 (начало кредитного рейтинга - 300 очков)."
   ]
  },
  {
   "cell_type": "code",
   "execution_count": 67,
   "metadata": {},
   "outputs": [],
   "source": [
    "train_df.loc[train_df['Credit Score'] >= 3000, 'Credit Score'] = train_df.loc[train_df['Credit Score'] >= 3000, 'Credit Score'] // 10"
   ]
  },
  {
   "cell_type": "code",
   "execution_count": 69,
   "metadata": {},
   "outputs": [
    {
     "data": {
      "text/plain": [
       "Series([], Name: Credit Score, dtype: float32)"
      ]
     },
     "execution_count": 69,
     "metadata": {},
     "output_type": "execute_result"
    }
   ],
   "source": [
    "train_df.loc[train_df['Credit Score'] >= 1000, 'Credit Score']"
   ]
  },
  {
   "cell_type": "markdown",
   "metadata": {},
   "source": [
    "Выбросы убраны."
   ]
  },
  {
   "cell_type": "code",
   "execution_count": 70,
   "metadata": {},
   "outputs": [
    {
     "data": {
      "image/png": "[encoded data removed]",
      "text/plain": [
       "<Figure size 864x432 with 1 Axes>"
      ]
     },
     "metadata": {
      "needs_background": "light"
     },
     "output_type": "display_data"
    }
   ],
   "source": [
    "plot_dist_with_stats(train_df['Credit Score'], var_name='Credit Score')"
   ]
  },
  {
   "cell_type": "markdown",
   "metadata": {},
   "source": [
    "Распределение похоже на экспоненциальное."
   ]
  },
  {
   "cell_type": "markdown",
   "metadata": {},
   "source": [
    "### Bankruptcies"
   ]
  },
  {
   "cell_type": "code",
   "execution_count": 20,
   "metadata": {},
   "outputs": [
    {
     "data": {
      "text/plain": [
       "0.0    6660\n",
       "1.0     786\n",
       "2.0      31\n",
       "3.0       7\n",
       "4.0       2\n",
       "Name: Bankruptcies, dtype: int64"
      ]
     },
     "execution_count": 20,
     "metadata": {},
     "output_type": "execute_result"
    }
   ],
   "source": [
    "train_df['Bankruptcies'].value_counts()"
   ]
  },
  {
   "cell_type": "code",
   "execution_count": 23,
   "metadata": {},
   "outputs": [
    {
     "data": {
      "image/png": "[encoded data removed]",
      "text/plain": [
       "<Figure size 864x432 with 1 Axes>"
      ]
     },
     "metadata": {
      "needs_background": "light"
     },
     "output_type": "display_data"
    }
   ],
   "source": [
    "plot_dist_with_stats(train_df['Bankruptcies'], var_name='Bankruptcies')"
   ]
  },
  {
   "cell_type": "markdown",
   "metadata": {},
   "source": [
    "### Months since last delinquent"
   ]
  },
  {
   "cell_type": "code",
   "execution_count": 61,
   "metadata": {},
   "outputs": [
    {
     "data": {
      "text/plain": [
       "14.0     76\n",
       "29.0     71\n",
       "8.0      68\n",
       "33.0     68\n",
       "13.0     65\n",
       "         ..\n",
       "86.0      1\n",
       "92.0      1\n",
       "118.0     1\n",
       "84.0      1\n",
       "91.0      1\n",
       "Name: Months since last delinquent, Length: 89, dtype: int64"
      ]
     },
     "execution_count": 61,
     "metadata": {},
     "output_type": "execute_result"
    }
   ],
   "source": [
    "train_df['Months since last delinquent'].value_counts()"
   ]
  },
  {
   "cell_type": "code",
   "execution_count": 62,
   "metadata": {},
   "outputs": [
    {
     "data": {
      "image/png": "[encoded data removed]",
      "text/plain": [
       "<Figure size 864x432 with 1 Axes>"
      ]
     },
     "metadata": {
      "needs_background": "light"
     },
     "output_type": "display_data"
    }
   ],
   "source": [
    "plot_dist_with_stats(train_df['Months since last delinquent'], var_name='Months since last delinquent')"
   ]
  },
  {
   "cell_type": "markdown",
   "metadata": {},
   "source": [
    "### 1.2.2. Категориальные признаки"
   ]
  },
  {
   "cell_type": "code",
   "execution_count": 18,
   "metadata": {},
   "outputs": [
    {
     "name": "stdout",
     "output_type": "stream",
     "text": [
      "Home Ownership\n",
      "\n",
      "Home Mortgage    3637\n",
      "Rent             3204\n",
      "Own Home          647\n",
      "Have Mortgage      12\n",
      "Name: Home Ownership, dtype: int64\n",
      "----------------------------------------------------------------------------------------------------\n",
      "\n",
      "Years in current job\n",
      "\n",
      "10+ years    2332\n",
      "2 years       705\n",
      "3 years       620\n",
      "< 1 year      563\n",
      "5 years       516\n",
      "1 year        504\n",
      "4 years       469\n",
      "6 years       426\n",
      "7 years       396\n",
      "8 years       339\n",
      "9 years       259\n",
      "Name: Years in current job, dtype: int64\n",
      "----------------------------------------------------------------------------------------------------\n",
      "\n",
      "Purpose\n",
      "\n",
      "debt consolidation      5944\n",
      "other                    665\n",
      "home improvements        412\n",
      "business loan            129\n",
      "buy a car                 96\n",
      "medical bills             71\n",
      "major purchase            40\n",
      "take a trip               37\n",
      "buy house                 34\n",
      "small business            26\n",
      "wedding                   15\n",
      "moving                    11\n",
      "educational expenses      10\n",
      "vacation                   8\n",
      "renewable energy           2\n",
      "Name: Purpose, dtype: int64\n",
      "----------------------------------------------------------------------------------------------------\n",
      "\n",
      "Term\n",
      "\n",
      "Short Term    5556\n",
      "Long Term     1944\n",
      "Name: Term, dtype: int64\n",
      "----------------------------------------------------------------------------------------------------\n",
      "\n"
     ]
    }
   ],
   "source": [
    "for feature in train_df.select_dtypes(include='category').columns:\n",
    "    print(f\"{feature}\\n\\n{train_df[feature].value_counts()}\")\n",
    "    print('-' * 100 + '\\n')"
   ]
  },
  {
   "cell_type": "markdown",
   "metadata": {},
   "source": [
    "## 1.3. Обработка выбросов"
   ]
  },
  {
   "cell_type": "code",
   "execution_count": null,
   "metadata": {},
   "outputs": [],
   "source": []
  },
  {
   "cell_type": "markdown",
   "metadata": {},
   "source": [
    "## 1.4. Обработка пропущенных значений"
   ]
  },
  {
   "cell_type": "code",
   "execution_count": 19,
   "metadata": {},
   "outputs": [
    {
     "data": {
      "text/plain": [
       "Home Ownership                     0\n",
       "Annual Income                   1557\n",
       "Years in current job             371\n",
       "Tax Liens                          0\n",
       "Number of Open Accounts            0\n",
       "Years of Credit History            0\n",
       "Maximum Open Credit                0\n",
       "Number of Credit Problems          0\n",
       "Months since last delinquent    4081\n",
       "Bankruptcies                      14\n",
       "Purpose                            0\n",
       "Term                               0\n",
       "Current Loan Amount                0\n",
       "Current Credit Balance             0\n",
       "Monthly Debt                       0\n",
       "Credit Score                    1557\n",
       "Credit Default                     0\n",
       "dtype: int64"
      ]
     },
     "execution_count": 19,
     "metadata": {},
     "output_type": "execute_result"
    }
   ],
   "source": [
    "train_df.isna().sum()"
   ]
  },
  {
   "cell_type": "markdown",
   "metadata": {},
   "source": [
    "### Annual Income"
   ]
  },
  {
   "cell_type": "code",
   "execution_count": 20,
   "metadata": {},
   "outputs": [],
   "source": [
    "train_df.loc[train_df['Annual Income'].isna(), 'Annual Income'] = train_df['Annual Income'].median()"
   ]
  },
  {
   "cell_type": "markdown",
   "metadata": {},
   "source": [
    "### Bankruptcies"
   ]
  },
  {
   "cell_type": "code",
   "execution_count": 21,
   "metadata": {},
   "outputs": [],
   "source": [
    "train_df.loc[train_df['Bankruptcies'].isna(), 'Bankruptcies'] = train_df['Bankruptcies'].median()"
   ]
  },
  {
   "cell_type": "markdown",
   "metadata": {},
   "source": [
    "### Credit Score"
   ]
  },
  {
   "cell_type": "code",
   "execution_count": 22,
   "metadata": {},
   "outputs": [],
   "source": [
    "train_df.loc[train_df['Credit Score'].isna(), 'Credit Score'] = train_df['Credit Score'].median()"
   ]
  },
  {
   "cell_type": "markdown",
   "metadata": {},
   "source": [
    "### Years in current job"
   ]
  },
  {
   "cell_type": "code",
   "execution_count": 23,
   "metadata": {},
   "outputs": [],
   "source": [
    "train_df.loc[train_df['Years in current job'].isna(), 'Years in current job'] = train_df['Years in current job'].mode()[0]"
   ]
  },
  {
   "cell_type": "markdown",
   "metadata": {},
   "source": [
    "### Months since last delinquent"
   ]
  },
  {
   "cell_type": "code",
   "execution_count": 24,
   "metadata": {},
   "outputs": [],
   "source": [
    "train_df = train_df.drop(columns=['Months since last delinquent'])"
   ]
  },
  {
   "cell_type": "markdown",
   "metadata": {},
   "source": [
    "## 1.5. Зависимости между признаками, таргетом"
   ]
  },
  {
   "cell_type": "code",
   "execution_count": null,
   "metadata": {},
   "outputs": [],
   "source": []
  },
  {
   "cell_type": "markdown",
   "metadata": {},
   "source": [
    "## 1.6. Трансформация переменных"
   ]
  },
  {
   "cell_type": "markdown",
   "metadata": {},
   "source": [
    "### Term"
   ]
  },
  {
   "cell_type": "code",
   "execution_count": 25,
   "metadata": {},
   "outputs": [],
   "source": [
    "train_df['Term'] = pd.Series(train_df['Term'].map({'Short Term': 0, 'Long Term': 1}), dtype=np.int8)"
   ]
  },
  {
   "cell_type": "markdown",
   "metadata": {},
   "source": [
    "## 1.7. Генерация новых признаков"
   ]
  },
  {
   "cell_type": "code",
   "execution_count": null,
   "metadata": {},
   "outputs": [],
   "source": []
  },
  {
   "cell_type": "markdown",
   "metadata": {},
   "source": [
    "## 1.8. Отбор признаков"
   ]
  },
  {
   "cell_type": "code",
   "execution_count": 26,
   "metadata": {},
   "outputs": [
    {
     "data": {
      "text/plain": [
       "['Home Ownership',\n",
       " 'Annual Income',\n",
       " 'Years in current job',\n",
       " 'Tax Liens',\n",
       " 'Number of Open Accounts',\n",
       " 'Years of Credit History',\n",
       " 'Maximum Open Credit',\n",
       " 'Number of Credit Problems',\n",
       " 'Bankruptcies',\n",
       " 'Purpose',\n",
       " 'Term',\n",
       " 'Current Loan Amount',\n",
       " 'Current Credit Balance',\n",
       " 'Monthly Debt',\n",
       " 'Credit Score',\n",
       " 'Credit Default']"
      ]
     },
     "execution_count": 26,
     "metadata": {},
     "output_type": "execute_result"
    }
   ],
   "source": [
    "train_df.columns.tolist()"
   ]
  },
  {
   "cell_type": "code",
   "execution_count": 27,
   "metadata": {},
   "outputs": [
    {
     "data": {
      "text/plain": [
       "['Home Ownership',\n",
       " 'Annual Income',\n",
       " 'Years in current job',\n",
       " 'Tax Liens',\n",
       " 'Number of Open Accounts',\n",
       " 'Years of Credit History',\n",
       " 'Maximum Open Credit',\n",
       " 'Number of Credit Problems',\n",
       " 'Bankruptcies',\n",
       " 'Purpose',\n",
       " 'Term',\n",
       " 'Current Loan Amount',\n",
       " 'Current Credit Balance',\n",
       " 'Monthly Debt',\n",
       " 'Credit Score']"
      ]
     },
     "execution_count": 27,
     "metadata": {},
     "output_type": "execute_result"
    }
   ],
   "source": [
    "# features = ['ft1', 'ft2', 'ft3', 'ft4']\n",
    "features = train_df.columns.tolist()\n",
    "features.remove(target)\n",
    "features"
   ]
  },
  {
   "cell_type": "code",
   "execution_count": 28,
   "metadata": {},
   "outputs": [],
   "source": [
    "new_features = []"
   ]
  },
  {
   "cell_type": "markdown",
   "metadata": {},
   "source": [
    "## 1.9. Стандартизация"
   ]
  },
  {
   "cell_type": "code",
   "execution_count": 29,
   "metadata": {},
   "outputs": [
    {
     "data": {
      "text/plain": [
       "['Annual Income',\n",
       " 'Tax Liens',\n",
       " 'Number of Open Accounts',\n",
       " 'Years of Credit History',\n",
       " 'Maximum Open Credit',\n",
       " 'Number of Credit Problems',\n",
       " 'Bankruptcies',\n",
       " 'Term',\n",
       " 'Current Loan Amount',\n",
       " 'Current Credit Balance',\n",
       " 'Monthly Debt',\n",
       " 'Credit Score']"
      ]
     },
     "execution_count": 29,
     "metadata": {},
     "output_type": "execute_result"
    }
   ],
   "source": [
    "features_to_standard = train_df[features].select_dtypes(include=\n",
    "                                                        ['int8', 'int16', 'int32', 'int64', 'float32', 'float64']\n",
    "                                                       ).columns.tolist()\n",
    "features_to_standard"
   ]
  },
  {
   "cell_type": "code",
   "execution_count": 30,
   "metadata": {},
   "outputs": [],
   "source": [
    "scaler = StandardScaler()\n",
    "standard_features = scaler.fit_transform(train_df[features_to_standard])"
   ]
  },
  {
   "cell_type": "code",
   "execution_count": 31,
   "metadata": {},
   "outputs": [
    {
     "data": {
      "text/html": [
       "<div>\n",
       "<style scoped>\n",
       "    .dataframe tbody tr th:only-of-type {\n",
       "        vertical-align: middle;\n",
       "    }\n",
       "\n",
       "    .dataframe tbody tr th {\n",
       "        vertical-align: top;\n",
       "    }\n",
       "\n",
       "    .dataframe thead th {\n",
       "        text-align: right;\n",
       "    }\n",
       "</style>\n",
       "<table border=\"1\" class=\"dataframe\">\n",
       "  <thead>\n",
       "    <tr style=\"text-align: right;\">\n",
       "      <th></th>\n",
       "      <th>Annual Income</th>\n",
       "      <th>Tax Liens</th>\n",
       "      <th>Number of Open Accounts</th>\n",
       "      <th>Years of Credit History</th>\n",
       "      <th>Maximum Open Credit</th>\n",
       "      <th>Number of Credit Problems</th>\n",
       "      <th>Bankruptcies</th>\n",
       "      <th>Term</th>\n",
       "      <th>Current Loan Amount</th>\n",
       "      <th>Current Credit Balance</th>\n",
       "      <th>Monthly Debt</th>\n",
       "      <th>Credit Score</th>\n",
       "    </tr>\n",
       "  </thead>\n",
       "  <tbody>\n",
       "    <tr>\n",
       "      <th>0</th>\n",
       "      <td>-1.114304</td>\n",
       "      <td>-0.110953</td>\n",
       "      <td>-0.026674</td>\n",
       "      <td>1.133645</td>\n",
       "      <td>-0.016174</td>\n",
       "      <td>1.664779</td>\n",
       "      <td>2.545732</td>\n",
       "      <td>-0.591517</td>\n",
       "      <td>2.760520</td>\n",
       "      <td>-0.762772</td>\n",
       "      <td>-0.872085</td>\n",
       "      <td>-0.218932</td>\n",
       "    </tr>\n",
       "    <tr>\n",
       "      <th>1</th>\n",
       "      <td>-0.396190</td>\n",
       "      <td>-0.110953</td>\n",
       "      <td>0.788223</td>\n",
       "      <td>-0.428528</td>\n",
       "      <td>0.014763</td>\n",
       "      <td>-0.340979</td>\n",
       "      <td>-0.337099</td>\n",
       "      <td>1.690569</td>\n",
       "      <td>-0.363620</td>\n",
       "      <td>0.330781</td>\n",
       "      <td>0.004909</td>\n",
       "      <td>-0.227276</td>\n",
       "    </tr>\n",
       "    <tr>\n",
       "      <th>2</th>\n",
       "      <td>-0.758385</td>\n",
       "      <td>-0.110953</td>\n",
       "      <td>-0.026674</td>\n",
       "      <td>2.369181</td>\n",
       "      <td>0.014807</td>\n",
       "      <td>-0.340979</td>\n",
       "      <td>-0.337099</td>\n",
       "      <td>-0.591517</td>\n",
       "      <td>2.760520</td>\n",
       "      <td>0.058379</td>\n",
       "      <td>-0.391034</td>\n",
       "      <td>-0.223799</td>\n",
       "    </tr>\n",
       "    <tr>\n",
       "      <th>3</th>\n",
       "      <td>-0.687478</td>\n",
       "      <td>-0.110953</td>\n",
       "      <td>-0.637847</td>\n",
       "      <td>0.593985</td>\n",
       "      <td>-0.049781</td>\n",
       "      <td>1.664779</td>\n",
       "      <td>2.545732</td>\n",
       "      <td>-0.591517</td>\n",
       "      <td>-0.368118</td>\n",
       "      <td>-0.610282</td>\n",
       "      <td>-0.584980</td>\n",
       "      <td>-0.257174</td>\n",
       "    </tr>\n",
       "    <tr>\n",
       "      <th>4</th>\n",
       "      <td>-0.725543</td>\n",
       "      <td>-0.110953</td>\n",
       "      <td>0.380774</td>\n",
       "      <td>-0.669954</td>\n",
       "      <td>-0.034903</td>\n",
       "      <td>1.664779</td>\n",
       "      <td>-0.337099</td>\n",
       "      <td>-0.591517</td>\n",
       "      <td>-0.367978</td>\n",
       "      <td>-0.618292</td>\n",
       "      <td>-0.933631</td>\n",
       "      <td>-0.239791</td>\n",
       "    </tr>\n",
       "    <tr>\n",
       "      <th>...</th>\n",
       "      <td>...</td>\n",
       "      <td>...</td>\n",
       "      <td>...</td>\n",
       "      <td>...</td>\n",
       "      <td>...</td>\n",
       "      <td>...</td>\n",
       "      <td>...</td>\n",
       "      <td>...</td>\n",
       "      <td>...</td>\n",
       "      <td>...</td>\n",
       "      <td>...</td>\n",
       "      <td>...</td>\n",
       "    </tr>\n",
       "    <tr>\n",
       "      <th>7495</th>\n",
       "      <td>-1.219886</td>\n",
       "      <td>-0.110953</td>\n",
       "      <td>-1.656468</td>\n",
       "      <td>-1.394234</td>\n",
       "      <td>-0.052248</td>\n",
       "      <td>-0.340979</td>\n",
       "      <td>-0.337099</td>\n",
       "      <td>-0.591517</td>\n",
       "      <td>-0.367868</td>\n",
       "      <td>-0.680639</td>\n",
       "      <td>-1.376362</td>\n",
       "      <td>-0.255088</td>\n",
       "    </tr>\n",
       "    <tr>\n",
       "      <th>7496</th>\n",
       "      <td>0.275799</td>\n",
       "      <td>-0.110953</td>\n",
       "      <td>-0.230398</td>\n",
       "      <td>1.162048</td>\n",
       "      <td>-0.016152</td>\n",
       "      <td>-0.340979</td>\n",
       "      <td>-0.337099</td>\n",
       "      <td>1.690569</td>\n",
       "      <td>-0.358011</td>\n",
       "      <td>0.524039</td>\n",
       "      <td>-0.463816</td>\n",
       "      <td>4.412423</td>\n",
       "    </tr>\n",
       "    <tr>\n",
       "      <th>7497</th>\n",
       "      <td>0.731625</td>\n",
       "      <td>-0.110953</td>\n",
       "      <td>0.177050</td>\n",
       "      <td>1.957336</td>\n",
       "      <td>0.052029</td>\n",
       "      <td>-0.340979</td>\n",
       "      <td>-0.337099</td>\n",
       "      <td>-0.591517</td>\n",
       "      <td>2.760520</td>\n",
       "      <td>0.591407</td>\n",
       "      <td>-0.489306</td>\n",
       "      <td>-0.219628</td>\n",
       "    </tr>\n",
       "    <tr>\n",
       "      <th>7498</th>\n",
       "      <td>-0.207346</td>\n",
       "      <td>-0.110953</td>\n",
       "      <td>2.010568</td>\n",
       "      <td>1.162048</td>\n",
       "      <td>0.012237</td>\n",
       "      <td>-0.340979</td>\n",
       "      <td>-0.337099</td>\n",
       "      <td>-0.591517</td>\n",
       "      <td>-0.352647</td>\n",
       "      <td>0.585907</td>\n",
       "      <td>1.576689</td>\n",
       "      <td>-0.231448</td>\n",
       "    </tr>\n",
       "    <tr>\n",
       "      <th>7499</th>\n",
       "      <td>-0.207346</td>\n",
       "      <td>-0.110953</td>\n",
       "      <td>-0.637847</td>\n",
       "      <td>-1.266420</td>\n",
       "      <td>-0.028975</td>\n",
       "      <td>-0.340979</td>\n",
       "      <td>-0.337099</td>\n",
       "      <td>-0.591517</td>\n",
       "      <td>-0.371077</td>\n",
       "      <td>-0.005164</td>\n",
       "      <td>-0.775908</td>\n",
       "      <td>-0.231448</td>\n",
       "    </tr>\n",
       "  </tbody>\n",
       "</table>\n",
       "<p>7500 rows × 12 columns</p>\n",
       "</div>"
      ],
      "text/plain": [
       "      Annual Income  Tax Liens  Number of Open Accounts  \\\n",
       "0         -1.114304  -0.110953                -0.026674   \n",
       "1         -0.396190  -0.110953                 0.788223   \n",
       "2         -0.758385  -0.110953                -0.026674   \n",
       "3         -0.687478  -0.110953                -0.637847   \n",
       "4         -0.725543  -0.110953                 0.380774   \n",
       "...             ...        ...                      ...   \n",
       "7495      -1.219886  -0.110953                -1.656468   \n",
       "7496       0.275799  -0.110953                -0.230398   \n",
       "7497       0.731625  -0.110953                 0.177050   \n",
       "7498      -0.207346  -0.110953                 2.010568   \n",
       "7499      -0.207346  -0.110953                -0.637847   \n",
       "\n",
       "      Years of Credit History  Maximum Open Credit  Number of Credit Problems  \\\n",
       "0                    1.133645            -0.016174                   1.664779   \n",
       "1                   -0.428528             0.014763                  -0.340979   \n",
       "2                    2.369181             0.014807                  -0.340979   \n",
       "3                    0.593985            -0.049781                   1.664779   \n",
       "4                   -0.669954            -0.034903                   1.664779   \n",
       "...                       ...                  ...                        ...   \n",
       "7495                -1.394234            -0.052248                  -0.340979   \n",
       "7496                 1.162048            -0.016152                  -0.340979   \n",
       "7497                 1.957336             0.052029                  -0.340979   \n",
       "7498                 1.162048             0.012237                  -0.340979   \n",
       "7499                -1.266420            -0.028975                  -0.340979   \n",
       "\n",
       "      Bankruptcies      Term  Current Loan Amount  Current Credit Balance  \\\n",
       "0         2.545732 -0.591517             2.760520               -0.762772   \n",
       "1        -0.337099  1.690569            -0.363620                0.330781   \n",
       "2        -0.337099 -0.591517             2.760520                0.058379   \n",
       "3         2.545732 -0.591517            -0.368118               -0.610282   \n",
       "4        -0.337099 -0.591517            -0.367978               -0.618292   \n",
       "...            ...       ...                  ...                     ...   \n",
       "7495     -0.337099 -0.591517            -0.367868               -0.680639   \n",
       "7496     -0.337099  1.690569            -0.358011                0.524039   \n",
       "7497     -0.337099 -0.591517             2.760520                0.591407   \n",
       "7498     -0.337099 -0.591517            -0.352647                0.585907   \n",
       "7499     -0.337099 -0.591517            -0.371077               -0.005164   \n",
       "\n",
       "      Monthly Debt  Credit Score  \n",
       "0        -0.872085     -0.218932  \n",
       "1         0.004909     -0.227276  \n",
       "2        -0.391034     -0.223799  \n",
       "3        -0.584980     -0.257174  \n",
       "4        -0.933631     -0.239791  \n",
       "...            ...           ...  \n",
       "7495     -1.376362     -0.255088  \n",
       "7496     -0.463816      4.412423  \n",
       "7497     -0.489306     -0.219628  \n",
       "7498      1.576689     -0.231448  \n",
       "7499     -0.775908     -0.231448  \n",
       "\n",
       "[7500 rows x 12 columns]"
      ]
     },
     "execution_count": 31,
     "metadata": {},
     "output_type": "execute_result"
    }
   ],
   "source": [
    "train_df[features_to_standard] = pd.DataFrame(standard_features, columns=features_to_standard)\n",
    "train_df[features_to_standard]"
   ]
  },
  {
   "cell_type": "markdown",
   "metadata": {},
   "source": [
    "## 1.10. Dummy-переменные"
   ]
  },
  {
   "cell_type": "code",
   "execution_count": 32,
   "metadata": {},
   "outputs": [],
   "source": [
    "train_df = pd.get_dummies(train_df, drop_first=True)"
   ]
  },
  {
   "cell_type": "markdown",
   "metadata": {},
   "source": [
    "У признака Years in current job есть значение \"< 1 year\".\\\n",
    "Этот значение конвертируется в dummy-признак с таким именем.\n",
    "\n",
    "Алгоритм XGBoost не поддерживает символы '[', ']', '<'. в именах признаках.\\\n",
    "Заменим все запрещенные символы в названиях столбцов на приемлемые."
   ]
  },
  {
   "cell_type": "code",
   "execution_count": 33,
   "metadata": {},
   "outputs": [],
   "source": [
    "problem_chars = '[]<'\n",
    "replacement = {'[': '(',\n",
    "               ']': ')',\n",
    "               '<': 'less_than'}"
   ]
  },
  {
   "cell_type": "code",
   "execution_count": 34,
   "metadata": {},
   "outputs": [],
   "source": [
    "for colname in train_df.columns:\n",
    "    for char in problem_chars:\n",
    "        if char in colname:\n",
    "            train_df = train_df.rename(columns={colname: colname.replace(char, replacement[char])})"
   ]
  },
  {
   "cell_type": "code",
   "execution_count": 35,
   "metadata": {},
   "outputs": [
    {
     "data": {
      "text/plain": [
       "Index(['Annual Income', 'Tax Liens', 'Number of Open Accounts',\n",
       "       'Years of Credit History', 'Maximum Open Credit',\n",
       "       'Number of Credit Problems', 'Bankruptcies', 'Term',\n",
       "       'Current Loan Amount', 'Current Credit Balance', 'Monthly Debt',\n",
       "       'Credit Score', 'Credit Default', 'Home Ownership_Home Mortgage',\n",
       "       'Home Ownership_Own Home', 'Home Ownership_Rent',\n",
       "       'Years in current job_10+ years', 'Years in current job_2 years',\n",
       "       'Years in current job_3 years', 'Years in current job_4 years',\n",
       "       'Years in current job_5 years', 'Years in current job_6 years',\n",
       "       'Years in current job_7 years', 'Years in current job_8 years',\n",
       "       'Years in current job_9 years', 'Years in current job_less_than 1 year',\n",
       "       'Purpose_buy a car', 'Purpose_buy house', 'Purpose_debt consolidation',\n",
       "       'Purpose_educational expenses', 'Purpose_home improvements',\n",
       "       'Purpose_major purchase', 'Purpose_medical bills', 'Purpose_moving',\n",
       "       'Purpose_other', 'Purpose_renewable energy', 'Purpose_small business',\n",
       "       'Purpose_take a trip', 'Purpose_vacation', 'Purpose_wedding'],\n",
       "      dtype='object')"
      ]
     },
     "execution_count": 35,
     "metadata": {},
     "output_type": "execute_result"
    }
   ],
   "source": [
    "problem_col_name = 'Years in current job_< 1 year'\n",
    "train_df = train_df.rename(columns={problem_col_name: problem_col_name.replace('<', 'less_than')})\n",
    "train_df.columns"
   ]
  },
  {
   "cell_type": "markdown",
   "metadata": {},
   "source": [
    "## 1.11. Описание обработанных данных"
   ]
  },
  {
   "cell_type": "code",
   "execution_count": 36,
   "metadata": {},
   "outputs": [
    {
     "data": {
      "text/html": [
       "<div>\n",
       "<style scoped>\n",
       "    .dataframe tbody tr th:only-of-type {\n",
       "        vertical-align: middle;\n",
       "    }\n",
       "\n",
       "    .dataframe tbody tr th {\n",
       "        vertical-align: top;\n",
       "    }\n",
       "\n",
       "    .dataframe thead th {\n",
       "        text-align: right;\n",
       "    }\n",
       "</style>\n",
       "<table border=\"1\" class=\"dataframe\">\n",
       "  <thead>\n",
       "    <tr style=\"text-align: right;\">\n",
       "      <th></th>\n",
       "      <th>Annual Income</th>\n",
       "      <th>Tax Liens</th>\n",
       "      <th>Number of Open Accounts</th>\n",
       "      <th>Years of Credit History</th>\n",
       "      <th>Maximum Open Credit</th>\n",
       "      <th>Number of Credit Problems</th>\n",
       "      <th>Bankruptcies</th>\n",
       "      <th>Term</th>\n",
       "      <th>Current Loan Amount</th>\n",
       "      <th>Current Credit Balance</th>\n",
       "      <th>...</th>\n",
       "      <th>Purpose_home improvements</th>\n",
       "      <th>Purpose_major purchase</th>\n",
       "      <th>Purpose_medical bills</th>\n",
       "      <th>Purpose_moving</th>\n",
       "      <th>Purpose_other</th>\n",
       "      <th>Purpose_renewable energy</th>\n",
       "      <th>Purpose_small business</th>\n",
       "      <th>Purpose_take a trip</th>\n",
       "      <th>Purpose_vacation</th>\n",
       "      <th>Purpose_wedding</th>\n",
       "    </tr>\n",
       "  </thead>\n",
       "  <tbody>\n",
       "    <tr>\n",
       "      <th>count</th>\n",
       "      <td>7.500000e+03</td>\n",
       "      <td>7.500000e+03</td>\n",
       "      <td>7.500000e+03</td>\n",
       "      <td>7.500000e+03</td>\n",
       "      <td>7.500000e+03</td>\n",
       "      <td>7.500000e+03</td>\n",
       "      <td>7.500000e+03</td>\n",
       "      <td>7.500000e+03</td>\n",
       "      <td>7.500000e+03</td>\n",
       "      <td>7.500000e+03</td>\n",
       "      <td>...</td>\n",
       "      <td>7500.000000</td>\n",
       "      <td>7500.000000</td>\n",
       "      <td>7500.000000</td>\n",
       "      <td>7500.000000</td>\n",
       "      <td>7500.000000</td>\n",
       "      <td>7500.000000</td>\n",
       "      <td>7500.000000</td>\n",
       "      <td>7500.000000</td>\n",
       "      <td>7500.000000</td>\n",
       "      <td>7500.00000</td>\n",
       "    </tr>\n",
       "    <tr>\n",
       "      <th>mean</th>\n",
       "      <td>1.780192e-09</td>\n",
       "      <td>-1.449585e-08</td>\n",
       "      <td>6.357829e-09</td>\n",
       "      <td>-8.138021e-09</td>\n",
       "      <td>-1.525879e-09</td>\n",
       "      <td>-1.678467e-08</td>\n",
       "      <td>-7.629395e-09</td>\n",
       "      <td>3.026327e-08</td>\n",
       "      <td>3.560384e-09</td>\n",
       "      <td>-6.103515e-09</td>\n",
       "      <td>...</td>\n",
       "      <td>0.054933</td>\n",
       "      <td>0.005333</td>\n",
       "      <td>0.009467</td>\n",
       "      <td>0.001467</td>\n",
       "      <td>0.088667</td>\n",
       "      <td>0.000267</td>\n",
       "      <td>0.003467</td>\n",
       "      <td>0.004933</td>\n",
       "      <td>0.001067</td>\n",
       "      <td>0.00200</td>\n",
       "    </tr>\n",
       "    <tr>\n",
       "      <th>std</th>\n",
       "      <td>1.000067e+00</td>\n",
       "      <td>1.000067e+00</td>\n",
       "      <td>1.000067e+00</td>\n",
       "      <td>1.000067e+00</td>\n",
       "      <td>1.000067e+00</td>\n",
       "      <td>1.000067e+00</td>\n",
       "      <td>1.000067e+00</td>\n",
       "      <td>1.000067e+00</td>\n",
       "      <td>1.000067e+00</td>\n",
       "      <td>1.000067e+00</td>\n",
       "      <td>...</td>\n",
       "      <td>0.227865</td>\n",
       "      <td>0.072840</td>\n",
       "      <td>0.096842</td>\n",
       "      <td>0.038272</td>\n",
       "      <td>0.284281</td>\n",
       "      <td>0.016329</td>\n",
       "      <td>0.058780</td>\n",
       "      <td>0.070069</td>\n",
       "      <td>0.032645</td>\n",
       "      <td>0.04468</td>\n",
       "    </tr>\n",
       "    <tr>\n",
       "      <th>min</th>\n",
       "      <td>-1.533873e+00</td>\n",
       "      <td>-1.109534e-01</td>\n",
       "      <td>-1.860192e+00</td>\n",
       "      <td>-2.033305e+00</td>\n",
       "      <td>-5.897941e-02</td>\n",
       "      <td>-3.409789e-01</td>\n",
       "      <td>-3.370990e-01</td>\n",
       "      <td>-5.915167e-01</td>\n",
       "      <td>-3.715680e-01</td>\n",
       "      <td>-9.118549e-01</td>\n",
       "      <td>...</td>\n",
       "      <td>0.000000</td>\n",
       "      <td>0.000000</td>\n",
       "      <td>0.000000</td>\n",
       "      <td>0.000000</td>\n",
       "      <td>0.000000</td>\n",
       "      <td>0.000000</td>\n",
       "      <td>0.000000</td>\n",
       "      <td>0.000000</td>\n",
       "      <td>0.000000</td>\n",
       "      <td>0.00000</td>\n",
       "    </tr>\n",
       "    <tr>\n",
       "      <th>25%</th>\n",
       "      <td>-5.208805e-01</td>\n",
       "      <td>-1.109534e-01</td>\n",
       "      <td>-6.378469e-01</td>\n",
       "      <td>-6.841558e-01</td>\n",
       "      <td>-4.155495e-02</td>\n",
       "      <td>-3.409789e-01</td>\n",
       "      <td>-3.370990e-01</td>\n",
       "      <td>-5.915167e-01</td>\n",
       "      <td>-3.662765e-01</td>\n",
       "      <td>-5.523883e-01</td>\n",
       "      <td>...</td>\n",
       "      <td>0.000000</td>\n",
       "      <td>0.000000</td>\n",
       "      <td>0.000000</td>\n",
       "      <td>0.000000</td>\n",
       "      <td>0.000000</td>\n",
       "      <td>0.000000</td>\n",
       "      <td>0.000000</td>\n",
       "      <td>0.000000</td>\n",
       "      <td>0.000000</td>\n",
       "      <td>0.00000</td>\n",
       "    </tr>\n",
       "    <tr>\n",
       "      <th>50%</th>\n",
       "      <td>-2.073461e-01</td>\n",
       "      <td>-1.109534e-01</td>\n",
       "      <td>-2.303985e-01</td>\n",
       "      <td>-1.871009e-01</td>\n",
       "      <td>-2.914137e-02</td>\n",
       "      <td>-3.409789e-01</td>\n",
       "      <td>-3.370990e-01</td>\n",
       "      <td>-5.915167e-01</td>\n",
       "      <td>-3.622230e-01</td>\n",
       "      <td>-2.532962e-01</td>\n",
       "      <td>...</td>\n",
       "      <td>0.000000</td>\n",
       "      <td>0.000000</td>\n",
       "      <td>0.000000</td>\n",
       "      <td>0.000000</td>\n",
       "      <td>0.000000</td>\n",
       "      <td>0.000000</td>\n",
       "      <td>0.000000</td>\n",
       "      <td>0.000000</td>\n",
       "      <td>0.000000</td>\n",
       "      <td>0.00000</td>\n",
       "    </tr>\n",
       "    <tr>\n",
       "      <th>75%</th>\n",
       "      <td>2.308539e-01</td>\n",
       "      <td>-1.109534e-01</td>\n",
       "      <td>5.844983e-01</td>\n",
       "      <td>4.945742e-01</td>\n",
       "      <td>-9.463390e-03</td>\n",
       "      <td>-3.409789e-01</td>\n",
       "      <td>-3.370990e-01</td>\n",
       "      <td>1.690569e+00</td>\n",
       "      <td>-3.556352e-01</td>\n",
       "      <td>2.220323e-01</td>\n",
       "      <td>...</td>\n",
       "      <td>0.000000</td>\n",
       "      <td>0.000000</td>\n",
       "      <td>0.000000</td>\n",
       "      <td>0.000000</td>\n",
       "      <td>0.000000</td>\n",
       "      <td>0.000000</td>\n",
       "      <td>0.000000</td>\n",
       "      <td>0.000000</td>\n",
       "      <td>0.000000</td>\n",
       "      <td>0.00000</td>\n",
       "    </tr>\n",
       "    <tr>\n",
       "      <th>max</th>\n",
       "      <td>1.166116e+01</td>\n",
       "      <td>2.566362e+01</td>\n",
       "      <td>6.492500e+00</td>\n",
       "      <td>5.592937e+00</td>\n",
       "      <td>8.135844e+01</td>\n",
       "      <td>1.369933e+01</td>\n",
       "      <td>1.119423e+01</td>\n",
       "      <td>1.690569e+00</td>\n",
       "      <td>2.760520e+00</td>\n",
       "      <td>1.955942e+01</td>\n",
       "      <td>...</td>\n",
       "      <td>1.000000</td>\n",
       "      <td>1.000000</td>\n",
       "      <td>1.000000</td>\n",
       "      <td>1.000000</td>\n",
       "      <td>1.000000</td>\n",
       "      <td>1.000000</td>\n",
       "      <td>1.000000</td>\n",
       "      <td>1.000000</td>\n",
       "      <td>1.000000</td>\n",
       "      <td>1.00000</td>\n",
       "    </tr>\n",
       "  </tbody>\n",
       "</table>\n",
       "<p>8 rows × 40 columns</p>\n",
       "</div>"
      ],
      "text/plain": [
       "       Annual Income     Tax Liens  Number of Open Accounts  \\\n",
       "count   7.500000e+03  7.500000e+03             7.500000e+03   \n",
       "mean    1.780192e-09 -1.449585e-08             6.357829e-09   \n",
       "std     1.000067e+00  1.000067e+00             1.000067e+00   \n",
       "min    -1.533873e+00 -1.109534e-01            -1.860192e+00   \n",
       "25%    -5.208805e-01 -1.109534e-01            -6.378469e-01   \n",
       "50%    -2.073461e-01 -1.109534e-01            -2.303985e-01   \n",
       "75%     2.308539e-01 -1.109534e-01             5.844983e-01   \n",
       "max     1.166116e+01  2.566362e+01             6.492500e+00   \n",
       "\n",
       "       Years of Credit History  Maximum Open Credit  \\\n",
       "count             7.500000e+03         7.500000e+03   \n",
       "mean             -8.138021e-09        -1.525879e-09   \n",
       "std               1.000067e+00         1.000067e+00   \n",
       "min              -2.033305e+00        -5.897941e-02   \n",
       "25%              -6.841558e-01        -4.155495e-02   \n",
       "50%              -1.871009e-01        -2.914137e-02   \n",
       "75%               4.945742e-01        -9.463390e-03   \n",
       "max               5.592937e+00         8.135844e+01   \n",
       "\n",
       "       Number of Credit Problems  Bankruptcies          Term  \\\n",
       "count               7.500000e+03  7.500000e+03  7.500000e+03   \n",
       "mean               -1.678467e-08 -7.629395e-09  3.026327e-08   \n",
       "std                 1.000067e+00  1.000067e+00  1.000067e+00   \n",
       "min                -3.409789e-01 -3.370990e-01 -5.915167e-01   \n",
       "25%                -3.409789e-01 -3.370990e-01 -5.915167e-01   \n",
       "50%                -3.409789e-01 -3.370990e-01 -5.915167e-01   \n",
       "75%                -3.409789e-01 -3.370990e-01  1.690569e+00   \n",
       "max                 1.369933e+01  1.119423e+01  1.690569e+00   \n",
       "\n",
       "       Current Loan Amount  Current Credit Balance  ...  \\\n",
       "count         7.500000e+03            7.500000e+03  ...   \n",
       "mean          3.560384e-09           -6.103515e-09  ...   \n",
       "std           1.000067e+00            1.000067e+00  ...   \n",
       "min          -3.715680e-01           -9.118549e-01  ...   \n",
       "25%          -3.662765e-01           -5.523883e-01  ...   \n",
       "50%          -3.622230e-01           -2.532962e-01  ...   \n",
       "75%          -3.556352e-01            2.220323e-01  ...   \n",
       "max           2.760520e+00            1.955942e+01  ...   \n",
       "\n",
       "       Purpose_home improvements  Purpose_major purchase  \\\n",
       "count                7500.000000             7500.000000   \n",
       "mean                    0.054933                0.005333   \n",
       "std                     0.227865                0.072840   \n",
       "min                     0.000000                0.000000   \n",
       "25%                     0.000000                0.000000   \n",
       "50%                     0.000000                0.000000   \n",
       "75%                     0.000000                0.000000   \n",
       "max                     1.000000                1.000000   \n",
       "\n",
       "       Purpose_medical bills  Purpose_moving  Purpose_other  \\\n",
       "count            7500.000000     7500.000000    7500.000000   \n",
       "mean                0.009467        0.001467       0.088667   \n",
       "std                 0.096842        0.038272       0.284281   \n",
       "min                 0.000000        0.000000       0.000000   \n",
       "25%                 0.000000        0.000000       0.000000   \n",
       "50%                 0.000000        0.000000       0.000000   \n",
       "75%                 0.000000        0.000000       0.000000   \n",
       "max                 1.000000        1.000000       1.000000   \n",
       "\n",
       "       Purpose_renewable energy  Purpose_small business  Purpose_take a trip  \\\n",
       "count               7500.000000             7500.000000          7500.000000   \n",
       "mean                   0.000267                0.003467             0.004933   \n",
       "std                    0.016329                0.058780             0.070069   \n",
       "min                    0.000000                0.000000             0.000000   \n",
       "25%                    0.000000                0.000000             0.000000   \n",
       "50%                    0.000000                0.000000             0.000000   \n",
       "75%                    0.000000                0.000000             0.000000   \n",
       "max                    1.000000                1.000000             1.000000   \n",
       "\n",
       "       Purpose_vacation  Purpose_wedding  \n",
       "count       7500.000000       7500.00000  \n",
       "mean           0.001067          0.00200  \n",
       "std            0.032645          0.04468  \n",
       "min            0.000000          0.00000  \n",
       "25%            0.000000          0.00000  \n",
       "50%            0.000000          0.00000  \n",
       "75%            0.000000          0.00000  \n",
       "max            1.000000          1.00000  \n",
       "\n",
       "[8 rows x 40 columns]"
      ]
     },
     "execution_count": 36,
     "metadata": {},
     "output_type": "execute_result"
    }
   ],
   "source": [
    "train_df.describe()"
   ]
  },
  {
   "cell_type": "markdown",
   "metadata": {},
   "source": [
    "# 2. Классы генерации признаков и предобработки данных"
   ]
  },
  {
   "cell_type": "markdown",
   "metadata": {},
   "source": [
    "## 2.1. Класс генерации признаков"
   ]
  },
  {
   "cell_type": "code",
   "execution_count": 37,
   "metadata": {},
   "outputs": [],
   "source": [
    "class FeatureGenerator:\n",
    "    \"\"\"Class for generating new features for the Credit Default dataset.\"\"\"\n",
    "    def __init__(self):\n",
    "        pass\n",
    "    \n",
    "    def fit(self, X, y=None):\n",
    "        pass\n",
    "    \n",
    "    def transform(self, X):\n",
    "        pass"
   ]
  },
  {
   "cell_type": "markdown",
   "metadata": {},
   "source": [
    "## 2.2. Класс предобработки данных"
   ]
  },
  {
   "cell_type": "code",
   "execution_count": 38,
   "metadata": {},
   "outputs": [],
   "source": [
    "class DataPipeline:\n",
    "    \"\"\"Class for cleaning data, transforming data, generating new features in the Credit Default dataset.\"\"\"\n",
    "    scaler_filepath = './scaler.pkl'\n",
    "    scaler_type = StandardScaler\n",
    "    \n",
    "    def __init__(self, scaler_path=SCALER_FILEPATH):\n",
    "        \"\"\"\"\"\"\n",
    "        self.NUM_FEATURE_TYPES = ['int8', 'int16', 'int32', 'int64', 'float32', 'float64']\n",
    "        self.FEATURES = ['Home Ownership', 'Annual Income', 'Years in current job', 'Tax Liens', \n",
    "                         'Number of Open Accounts', 'Years of Credit History', 'Maximum Open Credit', \n",
    "                         'Number of Credit Problems', 'Bankruptcies', 'Purpose', 'Term', 'Current Loan Amount', \n",
    "                         'Current Credit Balance', 'Monthly Debt', 'Credit Score']\n",
    "        self.NEW_FEATURES = []\n",
    "        self.TARGET_VARIABLE = 'Credit Default'\n",
    "        \n",
    "        self.medians = None\n",
    "        self.modes = None\n",
    "        \n",
    "        self.problem_col_name = None\n",
    "        \n",
    "        self.features_to_standard = None\n",
    "        self.scaler_filepath = scaler_path\n",
    "        self.scaler = self.scaler_type()\n",
    "        \n",
    "        self.feature_gen = None\n",
    "    \n",
    "    def fit(self, X, y=None):\n",
    "        \"\"\"Fit the pipeline to the dataset.\"\"\"\n",
    "        self.medians = X.median()\n",
    "        self.modes = X.select_dtypes(include='category').mode()\n",
    "        \n",
    "        self.problem_colname = 'Years in current job_< 1 year'\n",
    "        \n",
    "        # Train scaler\n",
    "        self.features_to_standard = X[self.FEATURES].select_dtypes(include=self.NUM_FEATURE_TYPES).columns.tolist()\n",
    "        self.scaler.fit(X[self.features_to_standard])\n",
    "        # Save the scaler\n",
    "        with open(self.scaler_filepath, 'wb') as file:\n",
    "            pickle.dump(scaler, file)\n",
    "    \n",
    "    def transform(self, X):\n",
    "        \"\"\"Transform the dataset in order to make a better ML model.\"\"\"\n",
    "        X = self.fix_nan(X)\n",
    "        X = self.term_to_int(X)\n",
    "        \n",
    "        X = self.standardize_features(X)\n",
    "        \n",
    "        X = pd.get_dummies(X, drop_first=True)\n",
    "        X = self.replace_problem_colnames(X)\n",
    "        \n",
    "        return X\n",
    "    \n",
    "    def fix_nan(self, X):\n",
    "        \"\"\"\"\"\"\n",
    "        # Numerical features\n",
    "        X.loc[X['Annual Income'].isna(), 'Annual Income'] = X['Annual Income'].median()\n",
    "        X.loc[X['Bankruptcies'].isna(), 'Bankruptcies'] = X['Bankruptcies'].median()\n",
    "        X.loc[X['Credit Score'].isna(), 'Credit Score'] = X['Credit Score'].median()\n",
    "        \n",
    "        # Categorical features\n",
    "        X.loc[X['Years in current job'].isna(), 'Years in current job'] = X['Years in current job'].mode()[0]\n",
    "        \n",
    "        # Drop Months since last delinquent since it is missing > 50% of values\n",
    "        X = X.drop(columns=['Months since last delinquent'])\n",
    "        \n",
    "        return X\n",
    "    \n",
    "    def term_to_int(self, X):\n",
    "        \"\"\"Convert categorical string values of feature Term to binary 0 and 1.\"\"\"\n",
    "        X['Term'] = pd.Series(X['Term'].map({'Short Term': 0, 'Long Term': 1}), dtype=np.int8)\n",
    "        \n",
    "        return X\n",
    "    \n",
    "    def standardize_features(self, X):\n",
    "        \"\"\"Standardize numerical features of a dataset.\"\"\"\n",
    "        standard_features = self.scaler.transform(X[self.features_to_standard])\n",
    "        X[self.features_to_standard] = pd.DataFrame(standard_features, columns=self.features_to_standard)\n",
    "        \n",
    "        return X\n",
    "    \n",
    "    def replace_problem_colnames(self, X):\n",
    "        \"\"\"Replace banned in XGBoost characters in column names.\"\"\"\n",
    "        problem_chars = '[]<'\n",
    "        replacement = {'[': '(',\n",
    "                       ']': ')',\n",
    "                       '<': 'less_than'}\n",
    "        \n",
    "        for colname in X.columns:\n",
    "            for char in problem_chars:\n",
    "                if char in colname:\n",
    "                    X = X.rename(columns={colname: colname.replace(char, replacement[char])})\n",
    "        \n",
    "        return X"
   ]
  },
  {
   "cell_type": "markdown",
   "metadata": {},
   "source": [
    "**Обработка датасетов классом DataPipeline**"
   ]
  },
  {
   "cell_type": "markdown",
   "metadata": {},
   "source": [
    "Загрузим изначальные датасеты train, test и обработаем их с помощью класса DataPipeline."
   ]
  },
  {
   "cell_type": "code",
   "execution_count": 39,
   "metadata": {},
   "outputs": [
    {
     "data": {
      "text/plain": [
       "((7500, 17), (2500, 16))"
      ]
     },
     "execution_count": 39,
     "metadata": {},
     "output_type": "execute_result"
    }
   ],
   "source": [
    "train_df = pd.read_csv(TRAIN_FILEPATH)\n",
    "test_df = pd.read_csv(TEST_FILEPATH)\n",
    "train_df.shape, test_df.shape"
   ]
  },
  {
   "cell_type": "code",
   "execution_count": 40,
   "metadata": {},
   "outputs": [
    {
     "data": {
      "text/plain": [
       "((7500, 40), (2500, 38))"
      ]
     },
     "execution_count": 40,
     "metadata": {},
     "output_type": "execute_result"
    }
   ],
   "source": [
    "pipeline = DataPipeline()\n",
    "pipeline.fit(train_df)\n",
    "\n",
    "train_df = pipeline.transform(train_df)\n",
    "test_df = pipeline.transform(test_df)\n",
    "train_df.shape, test_df.shape"
   ]
  },
  {
   "cell_type": "code",
   "execution_count": 41,
   "metadata": {},
   "outputs": [
    {
     "data": {
      "text/plain": [
       "((7500, 40), (2500, 38))"
      ]
     },
     "execution_count": 41,
     "metadata": {},
     "output_type": "execute_result"
    }
   ],
   "source": [
    "train_df = pd.get_dummies(train_df, drop_first=True)\n",
    "test_df = pd.get_dummies(test_df, drop_first=True)\n",
    "\n",
    "train_df.shape, test_df.shape"
   ]
  },
  {
   "cell_type": "code",
   "execution_count": 42,
   "metadata": {},
   "outputs": [
    {
     "data": {
      "text/plain": [
       "{'Purpose_renewable energy'}"
      ]
     },
     "execution_count": 42,
     "metadata": {},
     "output_type": "execute_result"
    }
   ],
   "source": [
    "trn = set(train_df.columns.tolist())\n",
    "tst = set(test_df.columns.tolist())\n",
    "\n",
    "trn.remove('Credit Default')\n",
    "trn.difference(tst)"
   ]
  },
  {
   "cell_type": "markdown",
   "metadata": {},
   "source": [
    "Есть признаки в dummy-переменных, которые есть не в обоих датасетах.\\\n",
    "Исправим это."
   ]
  },
  {
   "cell_type": "code",
   "execution_count": 43,
   "metadata": {},
   "outputs": [
    {
     "data": {
      "text/plain": [
       "'Train'"
      ]
     },
     "execution_count": 43,
     "metadata": {},
     "output_type": "execute_result"
    }
   ],
   "source": [
    "\"Train\" if 'Purpose_renewable energy' in trn else \"Test\""
   ]
  },
  {
   "cell_type": "markdown",
   "metadata": {},
   "source": [
    "Этот признак есть в train датасете, но не в test.\\\n",
    "Добавим его с нулевыми значениями, так как это dummy-переменная общего признака Purpose."
   ]
  },
  {
   "cell_type": "code",
   "execution_count": 44,
   "metadata": {},
   "outputs": [
    {
     "data": {
      "text/plain": [
       "((7500, 40), (2500, 39))"
      ]
     },
     "execution_count": 44,
     "metadata": {},
     "output_type": "execute_result"
    }
   ],
   "source": [
    "test_df['Purpose_renewable energy'] = 0\n",
    "\n",
    "train_df.shape, test_df.shape"
   ]
  },
  {
   "cell_type": "markdown",
   "metadata": {},
   "source": [
    "Теперь все признаки в датасетах одинаковы."
   ]
  },
  {
   "cell_type": "code",
   "execution_count": 45,
   "metadata": {},
   "outputs": [
    {
     "data": {
      "text/plain": [
       "(Index(['Annual Income', 'Tax Liens', 'Number of Open Accounts',\n",
       "        'Years of Credit History', 'Maximum Open Credit',\n",
       "        'Number of Credit Problems', 'Bankruptcies', 'Term',\n",
       "        'Current Loan Amount', 'Current Credit Balance', 'Monthly Debt',\n",
       "        'Credit Score', 'Credit Default', 'Home Ownership_Home Mortgage',\n",
       "        'Home Ownership_Own Home', 'Home Ownership_Rent',\n",
       "        'Years in current job_10+ years', 'Years in current job_2 years',\n",
       "        'Years in current job_3 years', 'Years in current job_4 years',\n",
       "        'Years in current job_5 years', 'Years in current job_6 years',\n",
       "        'Years in current job_7 years', 'Years in current job_8 years',\n",
       "        'Years in current job_9 years', 'Years in current job_less_than 1 year',\n",
       "        'Purpose_buy a car', 'Purpose_buy house', 'Purpose_debt consolidation',\n",
       "        'Purpose_educational expenses', 'Purpose_home improvements',\n",
       "        'Purpose_major purchase', 'Purpose_medical bills', 'Purpose_moving',\n",
       "        'Purpose_other', 'Purpose_renewable energy', 'Purpose_small business',\n",
       "        'Purpose_take a trip', 'Purpose_vacation', 'Purpose_wedding'],\n",
       "       dtype='object'),\n",
       " Index(['Annual Income', 'Tax Liens', 'Number of Open Accounts',\n",
       "        'Years of Credit History', 'Maximum Open Credit',\n",
       "        'Number of Credit Problems', 'Bankruptcies', 'Term',\n",
       "        'Current Loan Amount', 'Current Credit Balance', 'Monthly Debt',\n",
       "        'Credit Score', 'Home Ownership_Home Mortgage',\n",
       "        'Home Ownership_Own Home', 'Home Ownership_Rent',\n",
       "        'Years in current job_10+ years', 'Years in current job_2 years',\n",
       "        'Years in current job_3 years', 'Years in current job_4 years',\n",
       "        'Years in current job_5 years', 'Years in current job_6 years',\n",
       "        'Years in current job_7 years', 'Years in current job_8 years',\n",
       "        'Years in current job_9 years', 'Years in current job_less_than 1 year',\n",
       "        'Purpose_buy a car', 'Purpose_buy house', 'Purpose_debt consolidation',\n",
       "        'Purpose_educational expenses', 'Purpose_home improvements',\n",
       "        'Purpose_major purchase', 'Purpose_medical bills', 'Purpose_moving',\n",
       "        'Purpose_other', 'Purpose_small business', 'Purpose_take a trip',\n",
       "        'Purpose_vacation', 'Purpose_wedding', 'Purpose_renewable energy'],\n",
       "       dtype='object'))"
      ]
     },
     "execution_count": 45,
     "metadata": {},
     "output_type": "execute_result"
    }
   ],
   "source": [
    "train_df.columns, test_df.columns"
   ]
  },
  {
   "cell_type": "markdown",
   "metadata": {},
   "source": [
    "# 3. Сохранение обработанного датасета"
   ]
  },
  {
   "cell_type": "code",
   "execution_count": 46,
   "metadata": {},
   "outputs": [],
   "source": [
    "train_df.to_csv(PREPARED_TRAIN_FILEPATH, sep=',', index=False, encoding='utf-8')"
   ]
  },
  {
   "cell_type": "markdown",
   "metadata": {},
   "source": [
    "# 4. Разбиение на train, test"
   ]
  },
  {
   "cell_type": "code",
   "execution_count": 47,
   "metadata": {},
   "outputs": [],
   "source": [
    "X = train_df.drop(target, axis=1)\n",
    "y = train_df[target]\n",
    "\n",
    "X_train, X_test, y_train, y_test = train_test_split(X, y, stratify=y, test_size=0.2, shuffle=True, random_state=42)"
   ]
  },
  {
   "cell_type": "markdown",
   "metadata": {},
   "source": [
    "# 5. Построение модели"
   ]
  },
  {
   "cell_type": "markdown",
   "metadata": {},
   "source": [
    "### LogisticRegression"
   ]
  },
  {
   "cell_type": "code",
   "execution_count": 110,
   "metadata": {},
   "outputs": [],
   "source": [
    "model_params = {'solver': 'liblinear'}"
   ]
  },
  {
   "cell_type": "code",
   "execution_count": 111,
   "metadata": {},
   "outputs": [
    {
     "data": {
      "text/plain": [
       "LogisticRegression(solver='liblinear')"
      ]
     },
     "execution_count": 111,
     "metadata": {},
     "output_type": "execute_result"
    }
   ],
   "source": [
    "lr_model = LogisticRegression(**model_params)\n",
    "\n",
    "lr_model.fit(X_train, y_train)"
   ]
  },
  {
   "cell_type": "code",
   "execution_count": 112,
   "metadata": {},
   "outputs": [],
   "source": [
    "y_pred = lr_model.predict(X_train)"
   ]
  },
  {
   "cell_type": "code",
   "execution_count": 113,
   "metadata": {},
   "outputs": [
    {
     "data": {
      "text/plain": [
       "0.781"
      ]
     },
     "execution_count": 113,
     "metadata": {},
     "output_type": "execute_result"
    }
   ],
   "source": [
    "accuracy = accuracy_score(y_train, y_pred)\n",
    "accuracy"
   ]
  },
  {
   "cell_type": "code",
   "execution_count": 114,
   "metadata": {},
   "outputs": [
    {
     "data": {
      "text/plain": [
       "0.3933518005540167"
      ]
     },
     "execution_count": 114,
     "metadata": {},
     "output_type": "execute_result"
    }
   ],
   "source": [
    "f1 = f1_score(y_train, y_pred)\n",
    "f1"
   ]
  },
  {
   "cell_type": "code",
   "execution_count": 115,
   "metadata": {},
   "outputs": [
    {
     "data": {
      "text/plain": [
       "array([0.42369838, 0.3706422 , 0.39718805, 0.38545455, 0.40998217])"
      ]
     },
     "execution_count": 115,
     "metadata": {},
     "output_type": "execute_result"
    }
   ],
   "source": [
    "cv_score = cross_val_score(lr_model, X, y, scoring='f1', cv=StratifiedKFold(n_splits=5, shuffle=True, random_state=42))\n",
    "cv_score"
   ]
  },
  {
   "cell_type": "code",
   "execution_count": 116,
   "metadata": {},
   "outputs": [
    {
     "data": {
      "text/plain": [
       "0.39739307107753624"
      ]
     },
     "execution_count": 116,
     "metadata": {},
     "output_type": "execute_result"
    }
   ],
   "source": [
    "mean_cv_score = cv_score.mean()\n",
    "mean_cv_score"
   ]
  },
  {
   "cell_type": "code",
   "execution_count": 117,
   "metadata": {},
   "outputs": [],
   "source": [
    "comment = \"Replaced KFold to StratifiedKFold\""
   ]
  },
  {
   "cell_type": "code",
   "execution_count": 117,
   "metadata": {},
   "outputs": [
    {
     "name": "stdout",
     "output_type": "stream",
     "text": [
      "2020-09-25;21:42:25;LogisticRegression;0.781;0.3933518005540167;0.39739307107753624;{'C': 1.0, 'class_weight': None, 'dual': False, 'fit_intercept': True, 'intercept_scaling': 1, 'l1_ratio': None, 'max_iter': 100, 'multi_class': 'auto', 'n_jobs': None, 'penalty': 'l2', 'random_state': None, 'solver': 'liblinear', 'tol': 0.0001, 'verbose': 0, 'warm_start': False};Base LogisticRegression\n",
      "\n"
     ]
    }
   ],
   "source": [
    "log_model_results(lr_model, accuracy, f1, mean_cv_score, comment)"
   ]
  },
  {
   "cell_type": "markdown",
   "metadata": {},
   "source": [
    "### SupportVectorClassifier"
   ]
  },
  {
   "cell_type": "code",
   "execution_count": 118,
   "metadata": {},
   "outputs": [],
   "source": [
    "model_params = {'kernel': 'sigmoid'}"
   ]
  },
  {
   "cell_type": "code",
   "execution_count": 119,
   "metadata": {},
   "outputs": [
    {
     "data": {
      "text/plain": [
       "SVC(kernel='sigmoid')"
      ]
     },
     "execution_count": 119,
     "metadata": {},
     "output_type": "execute_result"
    }
   ],
   "source": [
    "svc_model = SVC(**model_params)\n",
    "\n",
    "svc_model.fit(X_train, y_train)"
   ]
  },
  {
   "cell_type": "code",
   "execution_count": 120,
   "metadata": {},
   "outputs": [],
   "source": [
    "y_pred = svc_model.predict(X_train)"
   ]
  },
  {
   "cell_type": "code",
   "execution_count": 121,
   "metadata": {},
   "outputs": [
    {
     "data": {
      "text/plain": [
       "0.6856666666666666"
      ]
     },
     "execution_count": 121,
     "metadata": {},
     "output_type": "execute_result"
    }
   ],
   "source": [
    "accuracy = accuracy_score(y_train, y_pred)\n",
    "accuracy"
   ]
  },
  {
   "cell_type": "code",
   "execution_count": 122,
   "metadata": {},
   "outputs": [
    {
     "data": {
      "text/plain": [
       "0.4186189889025894"
      ]
     },
     "execution_count": 122,
     "metadata": {},
     "output_type": "execute_result"
    }
   ],
   "source": [
    "f1 = f1_score(y_train, y_pred)\n",
    "f1"
   ]
  },
  {
   "cell_type": "code",
   "execution_count": 123,
   "metadata": {},
   "outputs": [
    {
     "data": {
      "text/plain": [
       "array([0.42574257, 0.41990291, 0.43985419, 0.42496999, 0.41636582])"
      ]
     },
     "execution_count": 123,
     "metadata": {},
     "output_type": "execute_result"
    }
   ],
   "source": [
    "cv_score = cross_val_score(svc_model, X, y, scoring='f1', cv=StratifiedKFold(n_splits=5, shuffle=True, random_state=42))\n",
    "cv_score"
   ]
  },
  {
   "cell_type": "code",
   "execution_count": 124,
   "metadata": {},
   "outputs": [
    {
     "data": {
      "text/plain": [
       "0.42536709823252095"
      ]
     },
     "execution_count": 124,
     "metadata": {},
     "output_type": "execute_result"
    }
   ],
   "source": [
    "mean_cv_score = cv_score.mean()\n",
    "mean_cv_score"
   ]
  },
  {
   "cell_type": "code",
   "execution_count": 125,
   "metadata": {},
   "outputs": [],
   "source": [
    "comment = \"Replaced KFold to StratifiedKFold\""
   ]
  },
  {
   "cell_type": "code",
   "execution_count": 125,
   "metadata": {},
   "outputs": [
    {
     "name": "stdout",
     "output_type": "stream",
     "text": [
      "2020-09-25;21:42:44;SVC;0.6856666666666666;0.4186189889025894;0.42536709823252095;{'C': 1.0, 'break_ties': False, 'cache_size': 200, 'class_weight': None, 'coef0': 0.0, 'decision_function_shape': 'ovr', 'degree': 3, 'gamma': 'scale', 'kernel': 'sigmoid', 'max_iter': -1, 'probability': False, 'random_state': None, 'shrinking': True, 'tol': 0.001, 'verbose': False};Base SupportVectorClassifier\n",
      "\n"
     ]
    }
   ],
   "source": [
    "log_model_results(svc_model, accuracy, f1, mean_cv_score, comment)"
   ]
  },
  {
   "cell_type": "markdown",
   "metadata": {},
   "source": [
    "### KNN"
   ]
  },
  {
   "cell_type": "code",
   "execution_count": 126,
   "metadata": {},
   "outputs": [],
   "source": [
    "model_params = {'n_neighbors': 5}"
   ]
  },
  {
   "cell_type": "code",
   "execution_count": 127,
   "metadata": {},
   "outputs": [
    {
     "data": {
      "text/plain": [
       "KNeighborsClassifier()"
      ]
     },
     "execution_count": 127,
     "metadata": {},
     "output_type": "execute_result"
    }
   ],
   "source": [
    "knn_model = KNeighborsClassifier(**model_params)\n",
    "\n",
    "knn_model.fit(X_train, y_train)"
   ]
  },
  {
   "cell_type": "code",
   "execution_count": 128,
   "metadata": {},
   "outputs": [],
   "source": [
    "y_pred = knn_model.predict(X_train)"
   ]
  },
  {
   "cell_type": "code",
   "execution_count": 129,
   "metadata": {},
   "outputs": [
    {
     "data": {
      "text/plain": [
       "0.8136666666666666"
      ]
     },
     "execution_count": 129,
     "metadata": {},
     "output_type": "execute_result"
    }
   ],
   "source": [
    "accuracy = accuracy_score(y_train, y_pred)\n",
    "accuracy"
   ]
  },
  {
   "cell_type": "code",
   "execution_count": 130,
   "metadata": {},
   "outputs": [
    {
     "data": {
      "text/plain": [
       "0.5815868263473054"
      ]
     },
     "execution_count": 130,
     "metadata": {},
     "output_type": "execute_result"
    }
   ],
   "source": [
    "f1 = f1_score(y_train, y_pred)\n",
    "f1"
   ]
  },
  {
   "cell_type": "code",
   "execution_count": 131,
   "metadata": {},
   "outputs": [
    {
     "data": {
      "text/plain": [
       "array([0.448737  , 0.43373494, 0.45037037, 0.40483384, 0.4260355 ])"
      ]
     },
     "execution_count": 131,
     "metadata": {},
     "output_type": "execute_result"
    }
   ],
   "source": [
    "cv_score = cross_val_score(knn_model, X, y, scoring='f1', cv=StratifiedKFold(n_splits=5, shuffle=True, random_state=42))\n",
    "cv_score"
   ]
  },
  {
   "cell_type": "code",
   "execution_count": 132,
   "metadata": {},
   "outputs": [
    {
     "data": {
      "text/plain": [
       "0.4327423296920217"
      ]
     },
     "execution_count": 132,
     "metadata": {},
     "output_type": "execute_result"
    }
   ],
   "source": [
    "mean_cv_score = cv_score.mean()\n",
    "mean_cv_score"
   ]
  },
  {
   "cell_type": "code",
   "execution_count": 133,
   "metadata": {},
   "outputs": [],
   "source": [
    "comment = \"Replaced KFold to StratifiedKFold\""
   ]
  },
  {
   "cell_type": "code",
   "execution_count": 133,
   "metadata": {},
   "outputs": [
    {
     "name": "stdout",
     "output_type": "stream",
     "text": [
      "2020-09-25;21:42:56;KNeighborsClassifier;0.8136666666666666;0.5815868263473054;0.4327423296920217;{'algorithm': 'auto', 'leaf_size': 30, 'metric': 'minkowski', 'metric_params': None, 'n_jobs': None, 'n_neighbors': 5, 'p': 2, 'weights': 'uniform'};Base KNNClassifier\n",
      "\n"
     ]
    }
   ],
   "source": [
    "log_model_results(knn_model, accuracy, f1, mean_cv_score, comment)"
   ]
  },
  {
   "cell_type": "markdown",
   "metadata": {},
   "source": [
    "### DecisionTree"
   ]
  },
  {
   "cell_type": "code",
   "execution_count": 134,
   "metadata": {},
   "outputs": [],
   "source": [
    "model_params = {'max_depth': 5,\n",
    "                'min_samples_leaf': 10,\n",
    "                'random_state': 42}"
   ]
  },
  {
   "cell_type": "code",
   "execution_count": 135,
   "metadata": {},
   "outputs": [
    {
     "data": {
      "text/plain": [
       "DecisionTreeClassifier(max_depth=5, min_samples_leaf=10, random_state=42)"
      ]
     },
     "execution_count": 135,
     "metadata": {},
     "output_type": "execute_result"
    }
   ],
   "source": [
    "tree_model = DecisionTreeClassifier(**model_params)\n",
    "\n",
    "tree_model.fit(X_train, y_train)"
   ]
  },
  {
   "cell_type": "code",
   "execution_count": 136,
   "metadata": {},
   "outputs": [],
   "source": [
    "y_pred = tree_model.predict(X_train)"
   ]
  },
  {
   "cell_type": "code",
   "execution_count": 137,
   "metadata": {},
   "outputs": [
    {
     "data": {
      "text/plain": [
       "0.7761666666666667"
      ]
     },
     "execution_count": 137,
     "metadata": {},
     "output_type": "execute_result"
    }
   ],
   "source": [
    "accuracy = accuracy_score(y_train, y_pred)\n",
    "accuracy"
   ]
  },
  {
   "cell_type": "code",
   "execution_count": 138,
   "metadata": {},
   "outputs": [
    {
     "data": {
      "text/plain": [
       "0.4971920628977911"
      ]
     },
     "execution_count": 138,
     "metadata": {},
     "output_type": "execute_result"
    }
   ],
   "source": [
    "f1 = f1_score(y_train, y_pred)\n",
    "f1"
   ]
  },
  {
   "cell_type": "code",
   "execution_count": 139,
   "metadata": {},
   "outputs": [
    {
     "data": {
      "text/plain": [
       "array([0.46496815, 0.41237113, 0.44333333, 0.48367953, 0.46587537])"
      ]
     },
     "execution_count": 139,
     "metadata": {},
     "output_type": "execute_result"
    }
   ],
   "source": [
    "cv_score = cross_val_score(tree_model, X, y, scoring='f1', cv=StratifiedKFold(n_splits=5, shuffle=True, random_state=42))\n",
    "cv_score"
   ]
  },
  {
   "cell_type": "code",
   "execution_count": 140,
   "metadata": {},
   "outputs": [
    {
     "data": {
      "text/plain": [
       "0.4540455032725255"
      ]
     },
     "execution_count": 140,
     "metadata": {},
     "output_type": "execute_result"
    }
   ],
   "source": [
    "mean_cv_score = cv_score.mean()\n",
    "mean_cv_score"
   ]
  },
  {
   "cell_type": "code",
   "execution_count": 141,
   "metadata": {},
   "outputs": [],
   "source": [
    "comment = \"Replaced KFold to StratifiedKFold\""
   ]
  },
  {
   "cell_type": "code",
   "execution_count": 141,
   "metadata": {},
   "outputs": [
    {
     "name": "stdout",
     "output_type": "stream",
     "text": [
      "2020-09-25;21:43:07;DecisionTreeClassifier;0.7761666666666667;0.4971920628977911;0.4540455032725255;{'ccp_alpha': 0.0, 'class_weight': None, 'criterion': 'gini', 'max_depth': 5, 'max_features': None, 'max_leaf_nodes': None, 'min_impurity_decrease': 0.0, 'min_impurity_split': None, 'min_samples_leaf': 10, 'min_samples_split': 2, 'min_weight_fraction_leaf': 0.0, 'presort': 'deprecated', 'random_state': 42, 'splitter': 'best'};Base DecisionTreeClassifier\n",
      "\n"
     ]
    }
   ],
   "source": [
    "log_model_results(tree_model, accuracy, f1, mean_cv_score, comment)"
   ]
  },
  {
   "cell_type": "markdown",
   "metadata": {},
   "source": [
    "### RandomForest"
   ]
  },
  {
   "cell_type": "code",
   "execution_count": 142,
   "metadata": {},
   "outputs": [],
   "source": [
    "model_params = {'n_estimators': 100,\n",
    "                'max_features': 20,\n",
    "                'max_depth': 20,\n",
    "                'min_samples_leaf': 3,\n",
    "                'random_state': 42}"
   ]
  },
  {
   "cell_type": "code",
   "execution_count": 143,
   "metadata": {},
   "outputs": [
    {
     "data": {
      "text/plain": [
       "RandomForestClassifier(max_depth=20, max_features=20, min_samples_leaf=3,\n",
       "                       random_state=42)"
      ]
     },
     "execution_count": 143,
     "metadata": {},
     "output_type": "execute_result"
    }
   ],
   "source": [
    "rf_model = RandomForestClassifier(**model_params)\n",
    "\n",
    "rf_model.fit(X_train, y_train)"
   ]
  },
  {
   "cell_type": "code",
   "execution_count": 144,
   "metadata": {},
   "outputs": [],
   "source": [
    "y_pred = rf_model.predict(X_train)"
   ]
  },
  {
   "cell_type": "code",
   "execution_count": 145,
   "metadata": {},
   "outputs": [
    {
     "data": {
      "text/plain": [
       "0.9368333333333333"
      ]
     },
     "execution_count": 145,
     "metadata": {},
     "output_type": "execute_result"
    }
   ],
   "source": [
    "accuracy = accuracy_score(y_train, y_pred)\n",
    "accuracy"
   ]
  },
  {
   "cell_type": "code",
   "execution_count": 146,
   "metadata": {},
   "outputs": [
    {
     "data": {
      "text/plain": [
       "0.8724335240659711"
      ]
     },
     "execution_count": 146,
     "metadata": {},
     "output_type": "execute_result"
    }
   ],
   "source": [
    "f1 = f1_score(y_train, y_pred)\n",
    "f1"
   ]
  },
  {
   "cell_type": "code",
   "execution_count": 147,
   "metadata": {},
   "outputs": [
    {
     "data": {
      "text/plain": [
       "array([0.48287113, 0.42760943, 0.48220065, 0.44039735, 0.44732577])"
      ]
     },
     "execution_count": 147,
     "metadata": {},
     "output_type": "execute_result"
    }
   ],
   "source": [
    "cv_score = cross_val_score(rf_model, X, y, scoring='f1', cv=StratifiedKFold(n_splits=5, shuffle=True, random_state=42))\n",
    "cv_score"
   ]
  },
  {
   "cell_type": "code",
   "execution_count": 148,
   "metadata": {},
   "outputs": [
    {
     "data": {
      "text/plain": [
       "0.45608086426357486"
      ]
     },
     "execution_count": 148,
     "metadata": {},
     "output_type": "execute_result"
    }
   ],
   "source": [
    "mean_cv_score = cv_score.mean()\n",
    "mean_cv_score"
   ]
  },
  {
   "cell_type": "code",
   "execution_count": 149,
   "metadata": {},
   "outputs": [],
   "source": [
    "comment = \"Replaced KFold to StratifiedKFold\""
   ]
  },
  {
   "cell_type": "code",
   "execution_count": 149,
   "metadata": {},
   "outputs": [
    {
     "name": "stdout",
     "output_type": "stream",
     "text": [
      "2020-09-25;21:43:27;RandomForestClassifier;0.9368333333333333;0.8724335240659711;0.45608086426357486;{'bootstrap': True, 'ccp_alpha': 0.0, 'class_weight': None, 'criterion': 'gini', 'max_depth': 20, 'max_features': 20, 'max_leaf_nodes': None, 'max_samples': None, 'min_impurity_decrease': 0.0, 'min_impurity_split': None, 'min_samples_leaf': 3, 'min_samples_split': 2, 'min_weight_fraction_leaf': 0.0, 'n_estimators': 100, 'n_jobs': None, 'oob_score': False, 'random_state': 42, 'verbose': 0, 'warm_start': False};Base RandomForestClassifier\n",
      "\n"
     ]
    }
   ],
   "source": [
    "log_model_results(rf_model, accuracy, f1, mean_cv_score, comment)"
   ]
  },
  {
   "cell_type": "markdown",
   "metadata": {},
   "source": [
    "### GradientBoosting"
   ]
  },
  {
   "cell_type": "code",
   "execution_count": 150,
   "metadata": {},
   "outputs": [],
   "source": [
    "model_params = {'criterion': 'mse',\n",
    "                'n_estimators': 300,\n",
    "                'max_depth': 5,\n",
    "                'min_samples_leaf': 5,\n",
    "                'random_state': 42}"
   ]
  },
  {
   "cell_type": "code",
   "execution_count": 151,
   "metadata": {},
   "outputs": [
    {
     "data": {
      "text/plain": [
       "GradientBoostingClassifier(criterion='mse', max_depth=5, min_samples_leaf=5,\n",
       "                           n_estimators=300, random_state=42)"
      ]
     },
     "execution_count": 151,
     "metadata": {},
     "output_type": "execute_result"
    }
   ],
   "source": [
    "gb_model = GradientBoostingClassifier(**model_params)\n",
    "\n",
    "gb_model.fit(X_train, y_train)"
   ]
  },
  {
   "cell_type": "code",
   "execution_count": 152,
   "metadata": {},
   "outputs": [],
   "source": [
    "y_pred = gb_model.predict(X_train)"
   ]
  },
  {
   "cell_type": "code",
   "execution_count": 153,
   "metadata": {},
   "outputs": [
    {
     "data": {
      "text/plain": [
       "0.9381666666666667"
      ]
     },
     "execution_count": 153,
     "metadata": {},
     "output_type": "execute_result"
    }
   ],
   "source": [
    "accuracy = accuracy_score(y_train, y_pred)\n",
    "accuracy"
   ]
  },
  {
   "cell_type": "code",
   "execution_count": 154,
   "metadata": {},
   "outputs": [
    {
     "data": {
      "text/plain": [
       "0.8761268781302171"
      ]
     },
     "execution_count": 154,
     "metadata": {},
     "output_type": "execute_result"
    }
   ],
   "source": [
    "f1 = f1_score(y_train, y_pred)\n",
    "f1"
   ]
  },
  {
   "cell_type": "code",
   "execution_count": 155,
   "metadata": {},
   "outputs": [
    {
     "data": {
      "text/plain": [
       "array([0.48287113, 0.42760943, 0.48220065, 0.44039735, 0.44732577])"
      ]
     },
     "execution_count": 155,
     "metadata": {},
     "output_type": "execute_result"
    }
   ],
   "source": [
    "cv_score = cross_val_score(rf_model, X, y, scoring='f1', cv=StratifiedKFold(n_splits=5, shuffle=True, random_state=42))\n",
    "cv_score"
   ]
  },
  {
   "cell_type": "code",
   "execution_count": 156,
   "metadata": {},
   "outputs": [
    {
     "data": {
      "text/plain": [
       "0.45608086426357486"
      ]
     },
     "execution_count": 156,
     "metadata": {},
     "output_type": "execute_result"
    }
   ],
   "source": [
    "mean_cv_score = cv_score.mean()\n",
    "mean_cv_score"
   ]
  },
  {
   "cell_type": "code",
   "execution_count": 157,
   "metadata": {},
   "outputs": [],
   "source": [
    "comment = \"Replaced KFold to StratifiedKFold\""
   ]
  },
  {
   "cell_type": "code",
   "execution_count": 157,
   "metadata": {},
   "outputs": [
    {
     "name": "stdout",
     "output_type": "stream",
     "text": [
      "2020-09-25;21:43:53;GradientBoostingClassifier;0.9381666666666667;0.8761268781302171;0.45608086426357486;{'ccp_alpha': 0.0, 'criterion': 'mse', 'init': None, 'learning_rate': 0.1, 'loss': 'deviance', 'max_depth': 5, 'max_features': None, 'max_leaf_nodes': None, 'min_impurity_decrease': 0.0, 'min_impurity_split': None, 'min_samples_leaf': 5, 'min_samples_split': 2, 'min_weight_fraction_leaf': 0.0, 'n_estimators': 300, 'n_iter_no_change': None, 'presort': 'deprecated', 'random_state': 42, 'subsample': 1.0, 'tol': 0.0001, 'validation_fraction': 0.1, 'verbose': 0, 'warm_start': False};Base GradientBoostingClassifier\n",
      "\n"
     ]
    }
   ],
   "source": [
    "log_model_results(gb_model, accuracy, f1, mean_cv_score, comment)"
   ]
  },
  {
   "cell_type": "markdown",
   "metadata": {},
   "source": [
    "### XGBoost"
   ]
  },
  {
   "cell_type": "code",
   "execution_count": 158,
   "metadata": {},
   "outputs": [],
   "source": [
    "model_params = {'objective': 'binary:logistic',\n",
    "                'n_estimators': 10,\n",
    "                'seed': 42,\n",
    "                'max_depth': 6}"
   ]
  },
  {
   "cell_type": "code",
   "execution_count": 159,
   "metadata": {},
   "outputs": [
    {
     "data": {
      "text/plain": [
       "XGBClassifier(base_score=0.5, booster='gbtree', colsample_bylevel=1,\n",
       "              colsample_bynode=1, colsample_bytree=1, gamma=0, gpu_id=-1,\n",
       "              importance_type='gain', interaction_constraints='',\n",
       "              learning_rate=0.300000012, max_delta_step=0, max_depth=6,\n",
       "              min_child_weight=1, missing=nan, monotone_constraints='()',\n",
       "              n_estimators=10, n_jobs=0, num_parallel_tree=1, random_state=42,\n",
       "              reg_alpha=0, reg_lambda=1, scale_pos_weight=1, seed=42,\n",
       "              subsample=1, tree_method='exact', validate_parameters=1,\n",
       "              verbosity=None)"
      ]
     },
     "execution_count": 159,
     "metadata": {},
     "output_type": "execute_result"
    }
   ],
   "source": [
    "xgb_model = xgb.XGBClassifier(**model_params)\n",
    "\n",
    "xgb_model.fit(X_train, y_train)"
   ]
  },
  {
   "cell_type": "code",
   "execution_count": 160,
   "metadata": {},
   "outputs": [],
   "source": [
    "y_pred = xgb_model.predict(X_train)"
   ]
  },
  {
   "cell_type": "code",
   "execution_count": 161,
   "metadata": {},
   "outputs": [
    {
     "data": {
      "text/plain": [
       "0.7983333333333333"
      ]
     },
     "execution_count": 161,
     "metadata": {},
     "output_type": "execute_result"
    }
   ],
   "source": [
    "accuracy = accuracy_score(y_train, y_pred)\n",
    "accuracy"
   ]
  },
  {
   "cell_type": "code",
   "execution_count": 162,
   "metadata": {},
   "outputs": [
    {
     "data": {
      "text/plain": [
       "0.4655477031802121"
      ]
     },
     "execution_count": 162,
     "metadata": {},
     "output_type": "execute_result"
    }
   ],
   "source": [
    "f1 = f1_score(y_train, y_pred)\n",
    "f1"
   ]
  },
  {
   "cell_type": "code",
   "execution_count": 163,
   "metadata": {},
   "outputs": [
    {
     "data": {
      "text/plain": [
       "array([0.42179262, 0.38686131, 0.4130809 , 0.39431616, 0.42248722])"
      ]
     },
     "execution_count": 163,
     "metadata": {},
     "output_type": "execute_result"
    }
   ],
   "source": [
    "cv_score = cross_val_score(xgb_model, X, y, scoring='f1', cv=StratifiedKFold(n_splits=5, shuffle=True, random_state=42))\n",
    "cv_score"
   ]
  },
  {
   "cell_type": "code",
   "execution_count": 164,
   "metadata": {},
   "outputs": [
    {
     "data": {
      "text/plain": [
       "0.4077076428170698"
      ]
     },
     "execution_count": 164,
     "metadata": {},
     "output_type": "execute_result"
    }
   ],
   "source": [
    "mean_cv_score = cv_score.mean()\n",
    "mean_cv_score"
   ]
  },
  {
   "cell_type": "code",
   "execution_count": 165,
   "metadata": {},
   "outputs": [],
   "source": [
    "comment = \"Replaced KFold to StratifiedKFold\""
   ]
  },
  {
   "cell_type": "code",
   "execution_count": 165,
   "metadata": {},
   "outputs": [
    {
     "name": "stdout",
     "output_type": "stream",
     "text": [
      "2020-09-25;21:44:03;XGBClassifier;0.7983333333333333;0.4655477031802121;0.4077076428170698;{'objective': 'binary:logistic', 'base_score': 0.5, 'booster': 'gbtree', 'colsample_bylevel': 1, 'colsample_bynode': 1, 'colsample_bytree': 1, 'gamma': 0, 'gpu_id': -1, 'importance_type': 'gain', 'interaction_constraints': '', 'learning_rate': 0.300000012, 'max_delta_step': 0, 'max_depth': 6, 'min_child_weight': 1, 'missing': nan, 'monotone_constraints': '()', 'n_estimators': 10, 'n_jobs': 0, 'num_parallel_tree': 1, 'random_state': 42, 'reg_alpha': 0, 'reg_lambda': 1, 'scale_pos_weight': 1, 'subsample': 1, 'tree_method': 'exact', 'validate_parameters': 1, 'verbosity': None, 'seed': 42};Base XGBoostClassifier\n",
      "\n"
     ]
    }
   ],
   "source": [
    "log_model_results(xgb_model, accuracy, f1, mean_cv_score, comment)"
   ]
  },
  {
   "cell_type": "markdown",
   "metadata": {},
   "source": [
    "### catboost"
   ]
  },
  {
   "cell_type": "code",
   "execution_count": null,
   "metadata": {},
   "outputs": [],
   "source": [
    "# ?"
   ]
  },
  {
   "cell_type": "markdown",
   "metadata": {},
   "source": [
    "# 6. Настройка и валидация конечной модели"
   ]
  },
  {
   "cell_type": "markdown",
   "metadata": {},
   "source": [
    "## 6.1. Оценка модели"
   ]
  },
  {
   "cell_type": "code",
   "execution_count": null,
   "metadata": {},
   "outputs": [],
   "source": []
  },
  {
   "cell_type": "markdown",
   "metadata": {},
   "source": [
    "## 6.2. Кросс-валидация"
   ]
  },
  {
   "cell_type": "code",
   "execution_count": null,
   "metadata": {},
   "outputs": [],
   "source": []
  },
  {
   "cell_type": "markdown",
   "metadata": {},
   "source": [
    "## 6.3. Логирование результатов валидации"
   ]
  },
  {
   "cell_type": "code",
   "execution_count": null,
   "metadata": {},
   "outputs": [],
   "source": [
    "# Just pass the trained model into a function that will evaluate the model, cross-validate it, then log it into training_log.csv.\n",
    "# It should basically run every time a model is validated, evaluated so that it logs every experiment automatically.\n",
    "# Afterwards I can just load this as a DataFrame and find better scores to choose the model."
   ]
  },
  {
   "cell_type": "code",
   "execution_count": 78,
   "metadata": {},
   "outputs": [],
   "source": [
    "# log_model_results(model, f1_score, mean_cv_score, comment=None)"
   ]
  },
  {
   "cell_type": "markdown",
   "metadata": {},
   "source": [
    "# 7. Анализ прогнозов модели"
   ]
  },
  {
   "cell_type": "markdown",
   "metadata": {},
   "source": [
    "## 7.1. Важность признаков"
   ]
  },
  {
   "cell_type": "code",
   "execution_count": null,
   "metadata": {},
   "outputs": [],
   "source": []
  },
  {
   "cell_type": "markdown",
   "metadata": {},
   "source": [
    "## 7.2. Топ-3 фичи"
   ]
  },
  {
   "cell_type": "code",
   "execution_count": null,
   "metadata": {},
   "outputs": [],
   "source": []
  },
  {
   "cell_type": "markdown",
   "metadata": {},
   "source": [
    "## 7.3. Худшие 3 фичи"
   ]
  },
  {
   "cell_type": "code",
   "execution_count": null,
   "metadata": {},
   "outputs": [],
   "source": []
  },
  {
   "cell_type": "markdown",
   "metadata": {},
   "source": [
    "# 8. Сохранение модели"
   ]
  },
  {
   "cell_type": "code",
   "execution_count": null,
   "metadata": {},
   "outputs": [],
   "source": []
  },
  {
   "cell_type": "markdown",
   "metadata": {},
   "source": [
    "**Создание файла requirements.txt для проекта**"
   ]
  },
  {
   "cell_type": "code",
   "execution_count": 167,
   "metadata": {},
   "outputs": [
    {
     "name": "stdout",
     "output_type": "stream",
     "text": [
      "\n",
      "Note: you may need to restart the kernel to use updated packages.\n"
     ]
    }
   ],
   "source": [
    "%conda list -e > requirements.txt"
   ]
  },
  {
   "cell_type": "markdown",
   "metadata": {},
   "source": [
    "# 9. Прогнозирование на тестовом датасете"
   ]
  },
  {
   "cell_type": "code",
   "execution_count": null,
   "metadata": {},
   "outputs": [],
   "source": []
  },
  {
   "cell_type": "markdown",
   "metadata": {},
   "source": [
    "# "
   ]
  }
 ],
 "metadata": {
  "kernelspec": {
   "display_name": "Python 3",
   "language": "python",
   "name": "python3"
  },
  "language_info": {
   "codemirror_mode": {
    "name": "ipython",
    "version": 3
   },
   "file_extension": ".py",
   "mimetype": "text/x-python",
   "name": "python",
   "nbconvert_exporter": "python",
   "pygments_lexer": "ipython3",
   "version": "3.7.8"
  }
 },
 "nbformat": 4,
 "nbformat_minor": 4
}
